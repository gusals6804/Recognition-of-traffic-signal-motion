{
 "cells": [
  {
   "cell_type": "markdown",
   "metadata": {},
   "source": [
    "# BASELINE"
   ]
  },
  {
   "cell_type": "markdown",
   "metadata": {},
   "source": [
    "### 코드 설명\n",
    "- 1) 하단의 코드를 통해 전처리 진행\n",
    "    - (1) 이미지와 json 파일을 불러와\n",
    "    - (2) BoundingBox를 기준으로 이미지를 Crop\n",
    "    - (3) 새로운 폴더에 이미지 파일을 저장\n",
    "- 2) 모델링 부분부터 재시작\n",
    "    - (1) 새롭게 저장한 데이터를 train_images와 targets에 저장\n",
    "    - (2) VGG16 모델에 적용\n",
    "    - (3) test 데이터는 폴더 단위로 불러와 예측값의 평균 적용\n",
    "    - (4) 저장 후 제출"
   ]
  },
  {
   "cell_type": "code",
   "execution_count": 1,
   "metadata": {},
   "outputs": [],
   "source": [
    "# ! rm -r ./open/new_images/test2"
   ]
  },
  {
   "cell_type": "code",
   "execution_count": 2,
   "metadata": {},
   "outputs": [],
   "source": [
    "# ! unzip ./open.zip -d ./open"
   ]
  },
  {
   "cell_type": "code",
   "execution_count": 3,
   "metadata": {},
   "outputs": [
    {
     "name": "stdout",
     "output_type": "stream",
     "text": [
      "Mon Oct  4 14:44:19 2021       \n",
      "+-----------------------------------------------------------------------------+\n",
      "| NVIDIA-SMI 450.119.04   Driver Version: 450.119.04   CUDA Version: 11.2     |\n",
      "|-------------------------------+----------------------+----------------------+\n",
      "| GPU  Name        Persistence-M| Bus-Id        Disp.A | Volatile Uncorr. ECC |\n",
      "| Fan  Temp  Perf  Pwr:Usage/Cap|         Memory-Usage | GPU-Util  Compute M. |\n",
      "|                               |                      |               MIG M. |\n",
      "|===============================+======================+======================|\n",
      "|   0  Tesla V100-SXM2...  On   | 00000000:06:00.0 Off |                    0 |\n",
      "| N/A   40C    P0    70W / 300W |    570MiB / 32510MiB |      0%      Default |\n",
      "|                               |                      |                  N/A |\n",
      "+-------------------------------+----------------------+----------------------+\n",
      "|   1  Tesla V100-SXM2...  On   | 00000000:07:00.0 Off |                    0 |\n",
      "| N/A   41C    P0    68W / 300W |    464MiB / 32510MiB |      0%      Default |\n",
      "|                               |                      |                  N/A |\n",
      "+-------------------------------+----------------------+----------------------+\n",
      "                                                                               \n",
      "+-----------------------------------------------------------------------------+\n",
      "| Processes:                                                                  |\n",
      "|  GPU   GI   CI        PID   Type   Process name                  GPU Memory |\n",
      "|        ID   ID                                                   Usage      |\n",
      "|=============================================================================|\n",
      "+-----------------------------------------------------------------------------+\n"
     ]
    }
   ],
   "source": [
    "gpu_info = !nvidia-smi\n",
    "gpu_info = '\\n'.join(gpu_info)\n",
    "if gpu_info.find('failed') >= 0:\n",
    "    print('Select the Runtime > \"Change runtime type\" menu to enable a GPU accelerator, ')\n",
    "    print('and then re-execute this cell.')\n",
    "else:\n",
    "    print(gpu_info)"
   ]
  },
  {
   "cell_type": "markdown",
   "metadata": {},
   "source": [
    "### Library"
   ]
  },
  {
   "cell_type": "code",
   "execution_count": 4,
   "metadata": {},
   "outputs": [],
   "source": [
    "# 데이터 보기\n",
    "import pandas as pd\n",
    "import numpy as np\n",
    "from glob import glob\n",
    "\n",
    "# 이미지데이터 로딩\n",
    "from PIL import Image\n",
    "import cv2\n",
    "from tqdm import tqdm\n",
    "\n",
    "\n",
    "# 파일경로 설정\n",
    "import os\n",
    "import json\n",
    "\n",
    "# Others\n",
    "import warnings\n",
    "warnings.filterwarnings(\"ignore\")\n",
    "warnings.simplefilter('ignore')\n",
    "import matplotlib.pyplot as plt\n"
   ]
  },
  {
   "cell_type": "code",
   "execution_count": 5,
   "metadata": {},
   "outputs": [],
   "source": [
    "data_path = './open'\n",
    "\n",
    "\n",
    "train_path = data_path + '/train'\n",
    "test_path = data_path + '/test'\n",
    "\n",
    "new_image_directory = data_path + '/new_images'\n",
    "new_train_image_directory = new_image_directory + '/train2'\n",
    "new_test_image_directory = new_image_directory + '/test2'\n",
    "\n",
    "action_information = pd.read_csv(data_path + '/action_information.csv')\n",
    "sample_submission = pd.read_csv(data_path + '/sample_submission.csv')"
   ]
  },
  {
   "cell_type": "code",
   "execution_count": 6,
   "metadata": {},
   "outputs": [],
   "source": [
    "def make_new_dir(path) : \n",
    "    if os.path.isdir(path) == False:\n",
    "        os.makedirs(path)"
   ]
  },
  {
   "cell_type": "code",
   "execution_count": 7,
   "metadata": {},
   "outputs": [],
   "source": [
    "make_new_dir(new_image_directory)\n",
    "make_new_dir(new_train_image_directory)\n",
    "make_new_dir(new_test_image_directory)"
   ]
  },
  {
   "cell_type": "markdown",
   "metadata": {},
   "source": [
    "### Check Sample Data"
   ]
  },
  {
   "cell_type": "markdown",
   "metadata": {},
   "source": [
    "#### Train 폴더 데이터 확인"
   ]
  },
  {
   "cell_type": "code",
   "execution_count": 8,
   "metadata": {},
   "outputs": [
    {
     "data": {
      "text/plain": [
       "['./open/train/file_0',\n",
       " './open/train/file_1',\n",
       " './open/train/file_2',\n",
       " './open/train/file_3',\n",
       " './open/train/file_4']"
      ]
     },
     "execution_count": 8,
     "metadata": {},
     "output_type": "execute_result"
    }
   ],
   "source": [
    "# Train 데이터에 있는 폴더를 glob로 불러와\n",
    "# sorted method를 통해 숫자 순으로 정렬합니다.\n",
    "train_folders = sorted(glob(train_path + '/*'), key = lambda x : int(x.split('/')[-1].replace('file_','')))\n",
    "test_folders  = sorted(glob(test_path + '/*'), key = lambda x : int(x.split('/')[-1].replace('file_','')))\n",
    "train_folders[:5]"
   ]
  },
  {
   "cell_type": "code",
   "execution_count": 9,
   "metadata": {},
   "outputs": [
    {
     "data": {
      "text/html": [
       "<div>\n",
       "<style scoped>\n",
       "    .dataframe tbody tr th:only-of-type {\n",
       "        vertical-align: middle;\n",
       "    }\n",
       "\n",
       "    .dataframe tbody tr th {\n",
       "        vertical-align: top;\n",
       "    }\n",
       "\n",
       "    .dataframe thead th {\n",
       "        text-align: right;\n",
       "    }\n",
       "</style>\n",
       "<table border=\"1\" class=\"dataframe\">\n",
       "  <thead>\n",
       "    <tr style=\"text-align: right;\">\n",
       "      <th></th>\n",
       "      <th>action</th>\n",
       "      <th>Label</th>\n",
       "    </tr>\n",
       "  </thead>\n",
       "  <tbody>\n",
       "    <tr>\n",
       "      <th>0</th>\n",
       "      <td>우측에서 좌측으로</td>\n",
       "      <td>0</td>\n",
       "    </tr>\n",
       "    <tr>\n",
       "      <th>1</th>\n",
       "      <td>전방정지</td>\n",
       "      <td>1</td>\n",
       "    </tr>\n",
       "    <tr>\n",
       "      <th>2</th>\n",
       "      <td>전후방 동시정지</td>\n",
       "      <td>2</td>\n",
       "    </tr>\n",
       "    <tr>\n",
       "      <th>3</th>\n",
       "      <td>좌우측방 동시정지</td>\n",
       "      <td>3</td>\n",
       "    </tr>\n",
       "    <tr>\n",
       "      <th>4</th>\n",
       "      <td>좌측에서 우측으로</td>\n",
       "      <td>4</td>\n",
       "    </tr>\n",
       "    <tr>\n",
       "      <th>5</th>\n",
       "      <td>후방정지</td>\n",
       "      <td>5</td>\n",
       "    </tr>\n",
       "  </tbody>\n",
       "</table>\n",
       "</div>"
      ],
      "text/plain": [
       "      action  Label\n",
       "0  우측에서 좌측으로      0\n",
       "1       전방정지      1\n",
       "2   전후방 동시정지      2\n",
       "3  좌우측방 동시정지      3\n",
       "4  좌측에서 우측으로      4\n",
       "5       후방정지      5"
      ]
     },
     "execution_count": 9,
     "metadata": {},
     "output_type": "execute_result"
    }
   ],
   "source": [
    "action_information"
   ]
  },
  {
   "cell_type": "markdown",
   "metadata": {},
   "source": [
    "#### 한개의 폴더를 열어 확인"
   ]
  },
  {
   "cell_type": "code",
   "execution_count": 10,
   "metadata": {},
   "outputs": [],
   "source": [
    "train_folder = train_folders[0]\n",
    "\n",
    "image_paths = sorted(glob(train_folder + '/*.jpg'), key = lambda x : int(x.split('/')[-1].replace('.jpg','')))\n",
    "json_path   = glob(train_folder + '/*.json')[0]"
   ]
  },
  {
   "cell_type": "code",
   "execution_count": 11,
   "metadata": {},
   "outputs": [
    {
     "name": "stdout",
     "output_type": "stream",
     "text": [
      "(2160, 3840, 3)\n"
     ]
    },
    {
     "data": {
      "image/png": "[encoded data removed]",
      "text/plain": [
       "<Figure size 432x288 with 1 Axes>"
      ]
     },
     "metadata": {
      "needs_background": "light"
     },
     "output_type": "display_data"
    }
   ],
   "source": [
    "image_path = image_paths[0]\n",
    "img = Image.open(image_path)\n",
    "img_arr = np.array(img)\n",
    "print(img_arr.shape)\n",
    "plt.imshow(img_arr)\n",
    "plt.axis('off')\n",
    "plt.show()"
   ]
  },
  {
   "cell_type": "code",
   "execution_count": 12,
   "metadata": {},
   "outputs": [
    {
     "name": "stdout",
     "output_type": "stream",
     "text": [
      "json keys             :  dict_keys(['action', 'sequence', 'info'])\n",
      "json action info       :  5\n",
      "json sequence info       :  dict_keys(['image_nums', '2d_pos', 'bounding_box', 'image_height', 'image_width'])\n",
      "json info keys :  dict_keys(['actor_gender', 'actor_tall_range', 'actor_cloth', 's_height', 'lain_no', 's_dynamic', 's_weather', 's_season', 'direction'])\n"
     ]
    }
   ],
   "source": [
    "js = json.load(open(json_path))\n",
    "\n",
    "print(\"json keys             : \", js.keys())\n",
    "print(\"json action info       : \",js.get('action'))\n",
    "print(\"json sequence info       : \",js.get('sequence').keys())\n",
    "print(\"json info keys : \",js.get('info').keys())"
   ]
  },
  {
   "cell_type": "code",
   "execution_count": 13,
   "metadata": {},
   "outputs": [
    {
     "data": {
      "text/plain": [
       "array([[1, 0, 0, 0, 0, 0],\n",
       "       [0, 1, 0, 0, 0, 0],\n",
       "       [0, 0, 1, 0, 0, 0],\n",
       "       [0, 0, 0, 1, 0, 0],\n",
       "       [0, 0, 0, 0, 1, 0],\n",
       "       [0, 0, 0, 0, 0, 1]], dtype=uint8)"
      ]
     },
     "execution_count": 13,
     "metadata": {},
     "output_type": "execute_result"
    }
   ],
   "source": [
    "classes = pd.get_dummies(action_information[['Label']], columns = ['Label']).to_numpy()\n",
    "classes"
   ]
  },
  {
   "cell_type": "code",
   "execution_count": 14,
   "metadata": {},
   "outputs": [],
   "source": [
    "image = Image.open(image_path)\n",
    "bounding_box = js.get('info').get('bounding_box')"
   ]
  },
  {
   "cell_type": "code",
   "execution_count": 15,
   "metadata": {
    "scrolled": true
   },
   "outputs": [
    {
     "name": "stdout",
     "output_type": "stream",
     "text": [
      "[2322.63, 623.07, 2452.81, 954.314]\n"
     ]
    },
    {
     "data": {
      "image/png": "[encoded data removed]",
      "text/plain": [
       "<PIL.Image.Image image mode=RGB size=224x224 at 0x7F8C9D7E2A90>"
      ]
     },
     "execution_count": 15,
     "metadata": {},
     "output_type": "execute_result"
    }
   ],
   "source": [
    "bounding_box = js.get('sequence').get('bounding_box')[0]\n",
    "bounding_box = [float(x) for x in bounding_box]\n",
    "print(bounding_box)\n",
    "image = Image.open(image_path)\n",
    "image = image.crop(bounding_box) # left top right bottom\n",
    "image = image.resize((224,224))\n",
    "image"
   ]
  },
  {
   "cell_type": "markdown",
   "metadata": {},
   "source": [
    "## Save Data to Another Path"
   ]
  },
  {
   "cell_type": "code",
   "execution_count": 16,
   "metadata": {},
   "outputs": [
    {
     "name": "stderr",
     "output_type": "stream",
     "text": [
      "100%|██████████| 142/142 [15:24<00:00,  6.51s/it]\n"
     ]
    }
   ],
   "source": [
    "train_directories = np.array(sorted(glob(train_path + '/*'), key = lambda x : int(x.split('/')[-1].split('_')[-1])))\n",
    "\n",
    "for train_directory in tqdm(train_directories, total = len(train_directories)) : \n",
    "    file_name = train_directory.split('/')[-1]\n",
    "    make_new_dir(new_train_image_directory + '/'+file_name)\n",
    "    \n",
    "    image_paths = sorted(glob(train_directory + '/*.jpg'), key = lambda x : int(x.split('/')[-1].replace('.jpg','')))\n",
    "    json_path   = glob(train_directory + '/*.json')[0]\n",
    "\n",
    "    js = json.load(open(json_path))\n",
    "    target = js.get('action')\n",
    "    target = classes[target]\n",
    "    bounding_boxes = js.get('sequence').get('bounding_box')\n",
    "    bounding_boxes = [(float(a),float(b),float(c),float(d)) for a,b,c,d in bounding_boxes] # 실수형태로 변환, (left, top, right, bottom)\n",
    "\n",
    "    for image_path, bounding_box in zip(image_paths[20:60], bounding_boxes[20:60]) : \n",
    "        image = Image.open(image_path)\n",
    "        image = image.crop(bounding_box) # left top right bottom\n",
    "        image = image.resize((224,224))\n",
    "        image.save(new_train_image_directory + image_path.split('/train')[1])        \n",
    "        \n",
    "    for image_path, bounding_box in zip(image_paths[90:120], bounding_boxes[90:120]) : \n",
    "        image = Image.open(image_path)\n",
    "        image = image.crop(bounding_box) # left top right bottom\n",
    "        image = image.resize((224,224))\n",
    "        image.save(new_train_image_directory + image_path.split('/train')[1])     "
   ]
  },
  {
   "cell_type": "code",
   "execution_count": 17,
   "metadata": {},
   "outputs": [
    {
     "name": "stderr",
     "output_type": "stream",
     "text": [
      "100%|██████████| 45/45 [04:49<00:00,  6.42s/it]\n"
     ]
    }
   ],
   "source": [
    "test_directories = np.array(sorted(glob(test_path + '/*'), key = lambda x : int(x.split('/')[-1].split('_')[-1])))\n",
    "\n",
    "for test_directory in tqdm(test_directories, total = len(test_directories)) : \n",
    "    file_name = test_directory.split('/')[-1]\n",
    "    make_new_dir(new_test_image_directory + '/'+file_name)\n",
    "    \n",
    "    image_paths = sorted(glob(test_directory + '/*.jpg'), key = lambda x : int(x.split('/')[-1].replace('.jpg','')))\n",
    "    json_path   = glob(test_directory + '/*.json')[0]\n",
    "\n",
    "    js = json.load(open(json_path))\n",
    "    target = js.get('action')\n",
    "    target = classes[target]\n",
    "    bounding_boxes = js.get('sequence').get('bounding_box')\n",
    "    bounding_boxes = [(float(a),float(b),float(c),float(d)) for a,b,c,d in bounding_boxes] # 실수형태로 변환, (left, top, right, bottom)\n",
    "\n",
    "    for image_path, bounding_box in zip(image_paths[20:60], bounding_boxes[20:60]) : \n",
    "        image = Image.open(image_path)\n",
    "        image = image.crop(bounding_box) # left top right bottom\n",
    "        image = image.resize((224,224))\n",
    "        image.save(new_test_image_directory + image_path.split('/test')[1])        \n",
    "    for image_path, bounding_box in zip(image_paths[90:120], bounding_boxes[90:120]) : \n",
    "        image = Image.open(image_path)\n",
    "        image = image.crop(bounding_box) # left top right bottom\n",
    "        image = image.resize((224,224))\n",
    "        image.save(new_test_image_directory + image_path.split('/test')[1])        "
   ]
  },
  {
   "cell_type": "markdown",
   "metadata": {},
   "source": [
    "# Restart & Modeling"
   ]
  },
  {
   "cell_type": "code",
   "execution_count": 18,
   "metadata": {},
   "outputs": [],
   "source": [
    "# Modeling\n",
    "from sklearn.model_selection import train_test_split\n",
    "\n",
    "import keras\n",
    "import tensorflow as tf\n",
    "from tensorflow.keras.preprocessing import image\n",
    "from tensorflow.keras.applications import VGG16 # 모델은 가벼운 모델을 사용합니다.\n",
    "from tensorflow.keras.layers import *\n",
    "from tensorflow.keras.models import Model, Sequential, load_model\n",
    "from tensorflow.keras.optimizers import Adam\n",
    "from tensorflow.keras.callbacks import EarlyStopping, ModelCheckpoint\n",
    "\n",
    "# GPU 환경 설정\n",
    "import os\n",
    "os.environ[\"CUDA_VISIBLE_DEVICES\"]=\"0, 1\"\n",
    "\n",
    "import gc\n",
    "from keras import backend as k\n",
    "\n",
    "# 파일경로 설정\n",
    "import json\n",
    "\n",
    "# 데이터 보기\n",
    "import pandas as pd\n",
    "import numpy as np\n",
    "from glob import glob\n",
    "\n",
    "# 이미지데이터 로딩\n",
    "from PIL import Image\n",
    "import cv2\n",
    "from tqdm import tqdm\n",
    "\n",
    "# Others\n",
    "import warnings\n",
    "warnings.filterwarnings(\"ignore\")\n",
    "warnings.simplefilter('ignore')"
   ]
  },
  {
   "cell_type": "code",
   "execution_count": 19,
   "metadata": {},
   "outputs": [
    {
     "data": {
      "text/plain": [
       "[name: \"/device:CPU:0\"\n",
       " device_type: \"CPU\"\n",
       " memory_limit: 268435456\n",
       " locality {\n",
       " }\n",
       " incarnation: 2909903156924536792,\n",
       " name: \"/device:GPU:0\"\n",
       " device_type: \"GPU\"\n",
       " memory_limit: 31906856960\n",
       " locality {\n",
       "   bus_id: 1\n",
       "   links {\n",
       "     link {\n",
       "       device_id: 1\n",
       "       type: \"StreamExecutor\"\n",
       "       strength: 1\n",
       "     }\n",
       "   }\n",
       " }\n",
       " incarnation: 14804670480003601195\n",
       " physical_device_desc: \"device: 0, name: Tesla V100-SXM2-32GB, pci bus id: 0000:06:00.0, compute capability: 7.0\",\n",
       " name: \"/device:GPU:1\"\n",
       " device_type: \"GPU\"\n",
       " memory_limit: 32018006016\n",
       " locality {\n",
       "   bus_id: 1\n",
       "   links {\n",
       "     link {\n",
       "       type: \"StreamExecutor\"\n",
       "       strength: 1\n",
       "     }\n",
       "   }\n",
       " }\n",
       " incarnation: 11790371577416267788\n",
       " physical_device_desc: \"device: 1, name: Tesla V100-SXM2-32GB, pci bus id: 0000:07:00.0, compute capability: 7.0\"]"
      ]
     },
     "execution_count": 19,
     "metadata": {},
     "output_type": "execute_result"
    }
   ],
   "source": [
    "from tensorflow.python.client import device_lib\n",
    "device_lib.list_local_devices()"
   ]
  },
  {
   "cell_type": "code",
   "execution_count": 20,
   "metadata": {},
   "outputs": [],
   "source": [
    "data_path = './open'\n",
    "\n",
    "\n",
    "train_path = data_path + '/train'\n",
    "test_path = data_path + '/test'\n",
    "\n",
    "new_image_directory = data_path + '/new_images'\n",
    "new_train_image_directory = new_image_directory + '/train'\n",
    "new_test_image_directory = new_image_directory + '/test'\n",
    "\n",
    "action_information = pd.read_csv(data_path + '/action_information.csv')\n",
    "sample_submission = pd.read_csv(data_path + '/sample_submission.csv')\n",
    "\n",
    "classes = pd.get_dummies(action_information[['Label']], columns = ['Label']).to_numpy()"
   ]
  },
  {
   "cell_type": "code",
   "execution_count": 21,
   "metadata": {},
   "outputs": [
    {
     "data": {
      "text/plain": [
       "['./open/new_images/train/file_0',\n",
       " './open/new_images/train/file_1',\n",
       " './open/new_images/train/file_2',\n",
       " './open/new_images/train/file_3',\n",
       " './open/new_images/train/file_4']"
      ]
     },
     "execution_count": 21,
     "metadata": {},
     "output_type": "execute_result"
    }
   ],
   "source": [
    "new_train_image_directories = sorted(glob(new_train_image_directory + '/*'), key = lambda x : int(x.split('/')[-1].split('_')[-1]))\n",
    "new_train_image_directories[:5]"
   ]
  },
  {
   "cell_type": "code",
   "execution_count": 22,
   "metadata": {},
   "outputs": [],
   "source": [
    "train_answer = []\n",
    "train_image_directories = sorted(glob(train_path + '/*'), key = lambda x : int(x.split('_')[-1]))\n",
    "for train_image_directory in train_image_directories : \n",
    "    json_path = glob(train_image_directory + '/*.json')[0]\n",
    "    js = json.load(open(json_path))\n",
    "    action = js.get('action')\n",
    "    train_answer.append(action)"
   ]
  },
  {
   "cell_type": "code",
   "execution_count": 23,
   "metadata": {},
   "outputs": [],
   "source": [
    "image_size = 224"
   ]
  },
  {
   "cell_type": "code",
   "execution_count": 24,
   "metadata": {},
   "outputs": [
    {
     "name": "stderr",
     "output_type": "stream",
     "text": [
      "100%|██████████| 102/102 [00:06<00:00, 16.05it/s]\n"
     ]
    }
   ],
   "source": [
    "images = []\n",
    "targets = []\n",
    "stratify = []\n",
    "for num, (new_train_image_directory, action) in tqdm(enumerate(zip(new_train_image_directories, train_answer)), total = len(new_train_image_directories)) : \n",
    "    image_paths = sorted(glob(new_train_image_directory + '/*'), key = lambda x : int(x.split('/')[-1].replace('.jpg','')))\n",
    "    image_len = len(image_paths)\n",
    "    for image_path in image_paths[10:60] : \n",
    "        img = image.load_img(image_path, target_size=(image_size,image_size,3))\n",
    "        img = image.img_to_array(img)\n",
    "        img = img/255\n",
    "        images.append(img)\n",
    "        targets.append(classes[action])\n",
    "        stratify.append(action)\n",
    "\n",
    "images = np.array(images)\n",
    "targets = np.array(targets)"
   ]
  },
  {
   "cell_type": "code",
   "execution_count": 25,
   "metadata": {},
   "outputs": [
    {
     "name": "stdout",
     "output_type": "stream",
     "text": [
      "(5094, 224, 224, 3)\n",
      "(5094, 6)\n"
     ]
    }
   ],
   "source": [
    "print(images.shape)\n",
    "print(targets.shape)"
   ]
  },
  {
   "cell_type": "code",
   "execution_count": 26,
   "metadata": {},
   "outputs": [],
   "source": [
    "# train_idx, valid_idx = train_test_split(range(images.shape[0]), test_size = 0.2, stratify = stratify)\n",
    "\n",
    "# X_train = images[train_idx]\n",
    "# y_train = targets[train_idx]\n",
    "\n",
    "# X_valid = images[valid_idx]\n",
    "# y_valid = targets[valid_idx]\n",
    "\n",
    "# print('X_train shape : ', X_train.shape)\n",
    "# print('X_valid shape : ', X_valid.shape)\n",
    "# print('y_train shape : ', y_train.shape)\n",
    "# print('y_valid shape : ', y_valid.shape)"
   ]
  },
  {
   "cell_type": "code",
   "execution_count": 27,
   "metadata": {},
   "outputs": [
    {
     "name": "stdout",
     "output_type": "stream",
     "text": [
      "INFO:tensorflow:Using MirroredStrategy with devices ('/job:localhost/replica:0/task:0/device:GPU:0', '/job:localhost/replica:0/task:0/device:GPU:1')\n",
      "Number of devices: 2\n"
     ]
    }
   ],
   "source": [
    "# Create a MirroredStrategy.\n",
    "strategy = tf.distribute.MirroredStrategy(cross_device_ops=tf.distribute.ReductionToOneDevice())\n",
    "print(\"Number of devices: {}\".format(strategy.num_replicas_in_sync))"
   ]
  },
  {
   "cell_type": "code",
   "execution_count": 28,
   "metadata": {},
   "outputs": [],
   "source": [
    "from tensorflow.python.keras.preprocessing.image import ImageDataGenerator\n",
    "\n",
    "datagen = ImageDataGenerator(\n",
    "#                 rotation_range = 10,\n",
    "#                 width_shift_range=0.05,\n",
    "#                 height_shift_range=0.05,\n",
    "#                 shear_range=0.05,\n",
    "#                 zoom_range=0.05\n",
    "            )\n",
    "\n",
    "valgen = ImageDataGenerator(\n",
    "        )"
   ]
  },
  {
   "cell_type": "code",
   "execution_count": 29,
   "metadata": {
    "scrolled": true
   },
   "outputs": [],
   "source": [
    "# ! pip install adabelief_tf \n",
    "from adabelief_tf import AdaBeliefOptimizer"
   ]
  },
  {
   "cell_type": "code",
   "execution_count": 30,
   "metadata": {},
   "outputs": [],
   "source": [
    "# !pip install --quiet vit-keras\n",
    "from vit_keras import vit"
   ]
  },
  {
   "cell_type": "code",
   "execution_count": 31,
   "metadata": {},
   "outputs": [],
   "source": [
    "# ! pip install -U tensorflow-addons\n",
    "import tensorflow_addons as tfa"
   ]
  },
  {
   "cell_type": "code",
   "execution_count": 32,
   "metadata": {
    "scrolled": true
   },
   "outputs": [],
   "source": [
    "def vit_model():\n",
    "    \n",
    "    vit_base = vit.vit_b32(\n",
    "        image_size = image_size,\n",
    "        activation = 'softmax',\n",
    "        pretrained = True,\n",
    "        include_top = False,\n",
    "        pretrained_top = False,\n",
    "        classes = classes.shape[1])\n",
    "#     vit_base.summary()\n",
    "    \n",
    "    model = Sequential()\n",
    "    model.add(vit_base)\n",
    "#     model.add(MaxPooling2D(pool_size=(3, 3)))\n",
    "    model.add(Flatten())\n",
    "\n",
    "    model.add(BatchNormalization())\n",
    "#     model.add(Dense(256, activation = tfa.activations.gelu))\n",
    "#     model.add(BatchNormalization())\n",
    "    model.add(Dense(128, activation = tfa.activations.gelu))\n",
    "    model.add(BatchNormalization())\n",
    "#     model.add(Dense(32, activation = tfa.activations.gelu))\n",
    "#     model.add(BatchNormalization())\n",
    "    model.add(Dense(64, activation = tfa.activations.gelu))\n",
    "    model.add(BatchNormalization())\n",
    "    model.add(Dense(classes.shape[1], activation = \"softmax\"))\n",
    "    \n",
    "\n",
    "    return model\n"
   ]
  },
  {
   "cell_type": "code",
   "execution_count": 33,
   "metadata": {},
   "outputs": [],
   "source": [
    "max_rate = 1e-3\n",
    "min_rate = 1e-4\n",
    "cycle = 10"
   ]
  },
  {
   "cell_type": "code",
   "execution_count": 34,
   "metadata": {},
   "outputs": [],
   "source": [
    "learning_rate = 0.001\n",
    "weight_decay = 0.0001\n",
    "batch_size = 32\n",
    "num_epochs = 100"
   ]
  },
  {
   "cell_type": "code",
   "execution_count": 35,
   "metadata": {},
   "outputs": [],
   "source": [
    "from keras.callbacks import Callback\n",
    "from keras import backend as K\n",
    "import math\n",
    "class CosineAnnealingScheduler(Callback):\n",
    "    \"\"\"Cosine annealing scheduler.\n",
    "    \"\"\"\n",
    "\n",
    "    def __init__(self, n_epochs, lr_max, lr_min, n_cycle, verbose=0):\n",
    "        super(CosineAnnealingScheduler, self).__init__()\n",
    "        self.n_epochs = n_epochs\n",
    "        self.lr_max = lr_max\n",
    "        self.lr_min = lr_min\n",
    "        self.n_cycle = n_cycle\n",
    "        self.lrates = list()\n",
    "        self.verbose = verbose\n",
    "        \n",
    "    def cosine_annealing(self, epoch):\n",
    "        \n",
    "        epochs_per_cycle = math.floor(self.n_epochs/self.n_cycle)\n",
    "        cos_inner = (math.pi * (epoch % (epochs_per_cycle))) / (epochs_per_cycle)\n",
    "        \n",
    "        return (self.lr_max - self.lr_min)/2 * (tf.math.cos(cos_inner) + 1) + self.lr_min\n",
    "     \n",
    "    def plot(self, epoch):\n",
    "        lr = self.cosine_annealing(epoch)\n",
    "        self.lrates.append(lr)\n",
    "        \n",
    "    def on_epoch_begin(self, epoch, logs=None):\n",
    "        if not hasattr(self.model.optimizer, 'lr'):\n",
    "            raise ValueError('Optimizer must have a \"lr\" attribute.')\n",
    "        lr = self.cosine_annealing(epoch)\n",
    "        K.set_value(self.model.optimizer.lr, lr)\n",
    "        if self.verbose == 0:\n",
    "            print('\\nEpoch %05d: CosineAnnealingScheduler setting learning '\n",
    "                  'rate to %s.' % (epoch + 1, lr))\n",
    "            \n",
    "    def on_epoch_end(self, epoch, logs=None):\n",
    "        logs = logs or {}\n",
    "        logs['lr'] = K.get_value(self.model.optimizer.lr)"
   ]
  },
  {
   "cell_type": "code",
   "execution_count": 36,
   "metadata": {
    "scrolled": true
   },
   "outputs": [
    {
     "name": "stdout",
     "output_type": "stream",
     "text": [
      "------------------------------------------------------------------------\n",
      "Training for fold 1 ...\n",
      "\u001b[31mPlease check your arguments if you have upgraded adabelief-tf from version 0.0.1.\n",
      "\u001b[31mModifications to default arguments:\n",
      "\u001b[31m                           eps  weight_decouple    rectify\n",
      "-----------------------  -----  -----------------  -------------\n",
      "adabelief-tf=0.0.1       1e-08  Not supported      Not supported\n",
      ">=0.1.0 (Current 0.2.0)  1e-14  supported          default: True\n",
      "\u001b[34mSGD better than Adam (e.g. CNN for Image Classification)    Adam better than SGD (e.g. Transformer, GAN)\n",
      "----------------------------------------------------------  ----------------------------------------------\n",
      "Recommended epsilon = 1e-7                                  Recommended epsilon = 1e-14\n",
      "\u001b[34mFor a complete table of recommended hyperparameters, see\n",
      "\u001b[34mhttps://github.com/juntang-zhuang/Adabelief-Optimizer\n",
      "\u001b[32mYou can disable the log message by setting \"print_change_log = False\", though it is recommended to keep as a reminder.\n",
      "\u001b[0m\n",
      "INFO:tensorflow:Reduce to /job:localhost/replica:0/task:0/device:CPU:0 then broadcast to ('/job:localhost/replica:0/task:0/device:CPU:0',).\n",
      "INFO:tensorflow:Reduce to /job:localhost/replica:0/task:0/device:CPU:0 then broadcast to ('/job:localhost/replica:0/task:0/device:CPU:0',).\n",
      "INFO:tensorflow:Reduce to /job:localhost/replica:0/task:0/device:CPU:0 then broadcast to ('/job:localhost/replica:0/task:0/device:CPU:0',).\n",
      "INFO:tensorflow:Reduce to /job:localhost/replica:0/task:0/device:CPU:0 then broadcast to ('/job:localhost/replica:0/task:0/device:CPU:0',).\n",
      "INFO:tensorflow:Reduce to /job:localhost/replica:0/task:0/device:CPU:0 then broadcast to ('/job:localhost/replica:0/task:0/device:CPU:0',).\n",
      "INFO:tensorflow:Reduce to /job:localhost/replica:0/task:0/device:CPU:0 then broadcast to ('/job:localhost/replica:0/task:0/device:CPU:0',).\n",
      "INFO:tensorflow:Reduce to /job:localhost/replica:0/task:0/device:CPU:0 then broadcast to ('/job:localhost/replica:0/task:0/device:CPU:0',).\n",
      "INFO:tensorflow:Reduce to /job:localhost/replica:0/task:0/device:CPU:0 then broadcast to ('/job:localhost/replica:0/task:0/device:CPU:0',).\n",
      "INFO:tensorflow:Reduce to /job:localhost/replica:0/task:0/device:CPU:0 then broadcast to ('/job:localhost/replica:0/task:0/device:CPU:0',).\n",
      "INFO:tensorflow:Reduce to /job:localhost/replica:0/task:0/device:CPU:0 then broadcast to ('/job:localhost/replica:0/task:0/device:CPU:0',).\n",
      "Epoch 1/100\n",
      "INFO:tensorflow:Reduce to /job:localhost/replica:0/task:0/device:GPU:0 then broadcast to ('/job:localhost/replica:0/task:0/device:GPU:0', '/job:localhost/replica:0/task:0/device:GPU:1').\n",
      "INFO:tensorflow:Reduce to /job:localhost/replica:0/task:0/device:GPU:0 then broadcast to ('/job:localhost/replica:0/task:0/device:GPU:0', '/job:localhost/replica:0/task:0/device:GPU:1').\n",
      "INFO:tensorflow:Reduce to /job:localhost/replica:0/task:0/device:GPU:0 then broadcast to ('/job:localhost/replica:0/task:0/device:GPU:0', '/job:localhost/replica:0/task:0/device:GPU:1').\n",
      "INFO:tensorflow:Reduce to /job:localhost/replica:0/task:0/device:GPU:0 then broadcast to ('/job:localhost/replica:0/task:0/device:GPU:0', '/job:localhost/replica:0/task:0/device:GPU:1').\n",
      "INFO:tensorflow:Reduce to /job:localhost/replica:0/task:0/device:GPU:0 then broadcast to ('/job:localhost/replica:0/task:0/device:GPU:0', '/job:localhost/replica:0/task:0/device:GPU:1').\n",
      "INFO:tensorflow:Reduce to /job:localhost/replica:0/task:0/device:GPU:0 then broadcast to ('/job:localhost/replica:0/task:0/device:GPU:0', '/job:localhost/replica:0/task:0/device:GPU:1').\n",
      "INFO:tensorflow:Reduce to /job:localhost/replica:0/task:0/device:GPU:0 then broadcast to ('/job:localhost/replica:0/task:0/device:GPU:0', '/job:localhost/replica:0/task:0/device:GPU:1').\n",
      "INFO:tensorflow:Reduce to /job:localhost/replica:0/task:0/device:GPU:0 then broadcast to ('/job:localhost/replica:0/task:0/device:GPU:0', '/job:localhost/replica:0/task:0/device:GPU:1').\n",
      "INFO:tensorflow:Reduce to /job:localhost/replica:0/task:0/device:GPU:0 then broadcast to ('/job:localhost/replica:0/task:0/device:GPU:0', '/job:localhost/replica:0/task:0/device:GPU:1').\n",
      "INFO:tensorflow:Reduce to /job:localhost/replica:0/task:0/device:GPU:0 then broadcast to ('/job:localhost/replica:0/task:0/device:GPU:0', '/job:localhost/replica:0/task:0/device:GPU:1').\n",
      "128/128 [==============================] - 126s 247ms/step - loss: 1.0934 - accuracy: 0.6125 - val_loss: 0.2869 - val_accuracy: 0.9127\n",
      "\n",
      "Epoch 00001: val_loss improved from inf to 0.28690, saving model to ./vit_model/check0_b32.h5\n",
      "Epoch 2/100\n",
      "128/128 [==============================] - 23s 176ms/step - loss: 0.2225 - accuracy: 0.9406 - val_loss: 0.0663 - val_accuracy: 0.9774\n",
      "\n",
      "Epoch 00002: val_loss improved from 0.28690 to 0.06635, saving model to ./vit_model/check0_b32.h5\n",
      "Epoch 3/100\n",
      "128/128 [==============================] - 22s 174ms/step - loss: 0.1053 - accuracy: 0.9735 - val_loss: 0.0701 - val_accuracy: 0.9804\n",
      "\n",
      "Epoch 00003: val_loss did not improve from 0.06635\n",
      "Epoch 4/100\n",
      "128/128 [==============================] - 22s 174ms/step - loss: 0.0741 - accuracy: 0.9804 - val_loss: 0.0392 - val_accuracy: 0.9902\n",
      "\n",
      "Epoch 00004: val_loss improved from 0.06635 to 0.03921, saving model to ./vit_model/check0_b32.h5\n",
      "Epoch 5/100\n",
      "128/128 [==============================] - 22s 173ms/step - loss: 0.0435 - accuracy: 0.9909 - val_loss: 0.0116 - val_accuracy: 0.9980\n",
      "\n",
      "Epoch 00005: val_loss improved from 0.03921 to 0.01162, saving model to ./vit_model/check0_b32.h5\n",
      "Epoch 6/100\n",
      "128/128 [==============================] - 22s 172ms/step - loss: 0.0736 - accuracy: 0.9764 - val_loss: 0.0747 - val_accuracy: 0.9764\n",
      "\n",
      "Epoch 00006: val_loss did not improve from 0.01162\n",
      "Epoch 7/100\n",
      "128/128 [==============================] - 22s 172ms/step - loss: 0.0668 - accuracy: 0.9816 - val_loss: 0.0180 - val_accuracy: 0.9951\n",
      "\n",
      "Epoch 00007: val_loss did not improve from 0.01162\n",
      "Epoch 8/100\n",
      "128/128 [==============================] - 22s 173ms/step - loss: 0.0278 - accuracy: 0.9934 - val_loss: 0.0463 - val_accuracy: 0.9931\n",
      "\n",
      "Epoch 00008: val_loss did not improve from 0.01162\n",
      "Epoch 9/100\n",
      "128/128 [==============================] - 22s 174ms/step - loss: 0.0205 - accuracy: 0.9948 - val_loss: 0.0134 - val_accuracy: 0.9961\n",
      "\n",
      "Epoch 00009: val_loss did not improve from 0.01162\n",
      "Epoch 10/100\n",
      "128/128 [==============================] - 22s 172ms/step - loss: 0.0188 - accuracy: 0.9958 - val_loss: 0.0261 - val_accuracy: 0.9961\n",
      "\n",
      "Epoch 00010: val_loss did not improve from 0.01162\n",
      "------------------------------------------------------------------------\n",
      "Training for fold 2 ...\n",
      "\u001b[31mPlease check your arguments if you have upgraded adabelief-tf from version 0.0.1.\n",
      "\u001b[31mModifications to default arguments:\n",
      "\u001b[31m                           eps  weight_decouple    rectify\n",
      "-----------------------  -----  -----------------  -------------\n",
      "adabelief-tf=0.0.1       1e-08  Not supported      Not supported\n",
      ">=0.1.0 (Current 0.2.0)  1e-14  supported          default: True\n",
      "\u001b[34mSGD better than Adam (e.g. CNN for Image Classification)    Adam better than SGD (e.g. Transformer, GAN)\n",
      "----------------------------------------------------------  ----------------------------------------------\n",
      "Recommended epsilon = 1e-7                                  Recommended epsilon = 1e-14\n",
      "\u001b[34mFor a complete table of recommended hyperparameters, see\n",
      "\u001b[34mhttps://github.com/juntang-zhuang/Adabelief-Optimizer\n",
      "\u001b[32mYou can disable the log message by setting \"print_change_log = False\", though it is recommended to keep as a reminder.\n",
      "\u001b[0m\n",
      "Epoch 1/100\n",
      "128/128 [==============================] - 118s 224ms/step - loss: 0.9990 - accuracy: 0.6459 - val_loss: 0.1902 - val_accuracy: 0.9549\n",
      "\n",
      "Epoch 00001: val_loss improved from inf to 0.19020, saving model to ./vit_model/check1_b32.h5\n",
      "Epoch 2/100\n",
      "128/128 [==============================] - 22s 170ms/step - loss: 0.2416 - accuracy: 0.9391 - val_loss: 0.0605 - val_accuracy: 0.9833\n",
      "\n",
      "Epoch 00002: val_loss improved from 0.19020 to 0.06047, saving model to ./vit_model/check1_b32.h5\n",
      "Epoch 3/100\n",
      "128/128 [==============================] - 22s 172ms/step - loss: 0.0963 - accuracy: 0.9799 - val_loss: 0.0126 - val_accuracy: 0.9980\n",
      "\n",
      "Epoch 00003: val_loss improved from 0.06047 to 0.01262, saving model to ./vit_model/check1_b32.h5\n"
     ]
    },
    {
     "name": "stdout",
     "output_type": "stream",
     "text": [
      "Epoch 4/100\n",
      "128/128 [==============================] - 22s 174ms/step - loss: 0.0681 - accuracy: 0.9855 - val_loss: 0.0138 - val_accuracy: 0.9971\n",
      "\n",
      "Epoch 00004: val_loss did not improve from 0.01262\n",
      "Epoch 5/100\n",
      "128/128 [==============================] - 22s 175ms/step - loss: 0.0406 - accuracy: 0.9897 - val_loss: 0.0165 - val_accuracy: 0.9961\n",
      "\n",
      "Epoch 00005: val_loss did not improve from 0.01262\n",
      "Epoch 6/100\n",
      "128/128 [==============================] - 22s 174ms/step - loss: 0.0769 - accuracy: 0.9779 - val_loss: 0.0155 - val_accuracy: 0.9961\n",
      "\n",
      "Epoch 00006: val_loss did not improve from 0.01262\n",
      "Epoch 7/100\n",
      "128/128 [==============================] - 22s 170ms/step - loss: 0.0320 - accuracy: 0.9921 - val_loss: 0.0053 - val_accuracy: 0.9990\n",
      "\n",
      "Epoch 00007: val_loss improved from 0.01262 to 0.00530, saving model to ./vit_model/check1_b32.h5\n",
      "Epoch 8/100\n",
      "128/128 [==============================] - 22s 171ms/step - loss: 0.0196 - accuracy: 0.9968 - val_loss: 0.0035 - val_accuracy: 0.9980\n",
      "\n",
      "Epoch 00008: val_loss improved from 0.00530 to 0.00345, saving model to ./vit_model/check1_b32.h5\n",
      "Epoch 9/100\n",
      "128/128 [==============================] - 22s 172ms/step - loss: 0.0203 - accuracy: 0.9961 - val_loss: 0.0040 - val_accuracy: 0.9980\n",
      "\n",
      "Epoch 00009: val_loss did not improve from 0.00345\n",
      "Epoch 10/100\n",
      "128/128 [==============================] - 22s 175ms/step - loss: 0.0539 - accuracy: 0.9855 - val_loss: 0.0040 - val_accuracy: 0.9990\n",
      "\n",
      "Epoch 00010: val_loss did not improve from 0.00345\n",
      "Epoch 11/100\n",
      "128/128 [==============================] - 22s 174ms/step - loss: 0.0174 - accuracy: 0.9961 - val_loss: 2.8618e-04 - val_accuracy: 1.0000\n",
      "\n",
      "Epoch 00011: val_loss improved from 0.00345 to 0.00029, saving model to ./vit_model/check1_b32.h5\n",
      "Epoch 12/100\n",
      "128/128 [==============================] - 22s 175ms/step - loss: 0.0121 - accuracy: 0.9971 - val_loss: 0.0040 - val_accuracy: 0.9990\n",
      "\n",
      "Epoch 00012: val_loss did not improve from 0.00029\n",
      "Epoch 13/100\n",
      "128/128 [==============================] - 22s 175ms/step - loss: 0.0134 - accuracy: 0.9971 - val_loss: 0.0057 - val_accuracy: 0.9971\n",
      "\n",
      "Epoch 00013: val_loss did not improve from 0.00029\n",
      "Epoch 14/100\n",
      "128/128 [==============================] - 22s 175ms/step - loss: 0.0122 - accuracy: 0.9980 - val_loss: 0.0025 - val_accuracy: 0.9990\n",
      "\n",
      "Epoch 00014: val_loss did not improve from 0.00029\n",
      "Epoch 15/100\n",
      "128/128 [==============================] - 22s 175ms/step - loss: 0.0179 - accuracy: 0.9958 - val_loss: 0.0033 - val_accuracy: 0.9990\n",
      "\n",
      "Epoch 00015: val_loss did not improve from 0.00029\n",
      "Epoch 16/100\n",
      "128/128 [==============================] - 22s 175ms/step - loss: 0.0187 - accuracy: 0.9946 - val_loss: 0.0065 - val_accuracy: 0.9980\n",
      "\n",
      "Epoch 00016: val_loss did not improve from 0.00029\n",
      "------------------------------------------------------------------------\n",
      "Training for fold 3 ...\n",
      "\u001b[31mPlease check your arguments if you have upgraded adabelief-tf from version 0.0.1.\n",
      "\u001b[31mModifications to default arguments:\n",
      "\u001b[31m                           eps  weight_decouple    rectify\n",
      "-----------------------  -----  -----------------  -------------\n",
      "adabelief-tf=0.0.1       1e-08  Not supported      Not supported\n",
      ">=0.1.0 (Current 0.2.0)  1e-14  supported          default: True\n",
      "\u001b[34mSGD better than Adam (e.g. CNN for Image Classification)    Adam better than SGD (e.g. Transformer, GAN)\n",
      "----------------------------------------------------------  ----------------------------------------------\n",
      "Recommended epsilon = 1e-7                                  Recommended epsilon = 1e-14\n",
      "\u001b[34mFor a complete table of recommended hyperparameters, see\n",
      "\u001b[34mhttps://github.com/juntang-zhuang/Adabelief-Optimizer\n",
      "\u001b[32mYou can disable the log message by setting \"print_change_log = False\", though it is recommended to keep as a reminder.\n",
      "\u001b[0m\n",
      "Epoch 1/100\n",
      "128/128 [==============================] - 121s 229ms/step - loss: 0.9892 - accuracy: 0.6530 - val_loss: 0.3583 - val_accuracy: 0.9117\n",
      "\n",
      "Epoch 00001: val_loss improved from inf to 0.35835, saving model to ./vit_model/check2_b32.h5\n",
      "Epoch 2/100\n",
      "128/128 [==============================] - 22s 171ms/step - loss: 1.8170 - accuracy: 0.3308 - val_loss: 3.2390 - val_accuracy: 0.2650\n",
      "\n",
      "Epoch 00002: val_loss did not improve from 0.35835\n",
      "Epoch 3/100\n",
      "128/128 [==============================] - 22s 170ms/step - loss: 1.3093 - accuracy: 0.5087 - val_loss: 0.6187 - val_accuracy: 0.7861\n",
      "\n",
      "Epoch 00003: val_loss did not improve from 0.35835\n",
      "Epoch 4/100\n",
      "128/128 [==============================] - 22s 169ms/step - loss: 0.3202 - accuracy: 0.8991 - val_loss: 0.2150 - val_accuracy: 0.9254\n",
      "\n",
      "Epoch 00004: val_loss improved from 0.35835 to 0.21502, saving model to ./vit_model/check2_b32.h5\n",
      "Epoch 5/100\n",
      "128/128 [==============================] - 21s 164ms/step - loss: 0.1791 - accuracy: 0.9475 - val_loss: 0.1115 - val_accuracy: 0.9578\n",
      "\n",
      "Epoch 00005: val_loss improved from 0.21502 to 0.11146, saving model to ./vit_model/check2_b32.h5\n",
      "Epoch 6/100\n",
      "128/128 [==============================] - 21s 167ms/step - loss: 0.0964 - accuracy: 0.9733 - val_loss: 0.1205 - val_accuracy: 0.9598\n",
      "\n",
      "Epoch 00006: val_loss did not improve from 0.11146\n",
      "Epoch 7/100\n",
      "128/128 [==============================] - 22s 170ms/step - loss: 0.0613 - accuracy: 0.9865 - val_loss: 0.0567 - val_accuracy: 0.9794\n",
      "\n",
      "Epoch 00007: val_loss improved from 0.11146 to 0.05667, saving model to ./vit_model/check2_b32.h5\n"
     ]
    },
    {
     "ename": "KeyboardInterrupt",
     "evalue": "",
     "output_type": "error",
     "traceback": [
      "\u001b[0;31m---------------------------------------------------------------------------\u001b[0m",
      "\u001b[0;31mKeyboardInterrupt\u001b[0m                         Traceback (most recent call last)",
      "\u001b[0;32m<ipython-input-36-28a421deb30d>\u001b[0m in \u001b[0;36m<module>\u001b[0;34m\u001b[0m\n\u001b[1;32m     55\u001b[0m         \u001b[0mshuffle\u001b[0m\u001b[0;34m=\u001b[0m\u001b[0;32mTrue\u001b[0m\u001b[0;34m,\u001b[0m\u001b[0;34m\u001b[0m\u001b[0;34m\u001b[0m\u001b[0m\n\u001b[1;32m     56\u001b[0m         \u001b[0mepochs\u001b[0m\u001b[0;34m=\u001b[0m\u001b[0mnum_epochs\u001b[0m\u001b[0;34m,\u001b[0m\u001b[0;34m\u001b[0m\u001b[0;34m\u001b[0m\u001b[0m\n\u001b[0;32m---> 57\u001b[0;31m         \u001b[0mcallbacks\u001b[0m\u001b[0;34m=\u001b[0m\u001b[0;34m[\u001b[0m\u001b[0mcheckpoint\u001b[0m\u001b[0;34m,\u001b[0m \u001b[0mearly_stopping_callback\u001b[0m\u001b[0;34m]\u001b[0m\u001b[0;34m\u001b[0m\u001b[0;34m\u001b[0m\u001b[0m\n\u001b[0m\u001b[1;32m     58\u001b[0m     )\n\u001b[1;32m     59\u001b[0m \u001b[0;34m\u001b[0m\u001b[0m\n",
      "\u001b[0;32m/usr/local/lib/python3.6/dist-packages/keras/engine/training.py\u001b[0m in \u001b[0;36mfit\u001b[0;34m(self, x, y, batch_size, epochs, verbose, callbacks, validation_split, validation_data, shuffle, class_weight, sample_weight, initial_epoch, steps_per_epoch, validation_steps, validation_batch_size, validation_freq, max_queue_size, workers, use_multiprocessing)\u001b[0m\n\u001b[1;32m   1233\u001b[0m           \u001b[0mepoch_logs\u001b[0m\u001b[0;34m.\u001b[0m\u001b[0mupdate\u001b[0m\u001b[0;34m(\u001b[0m\u001b[0mval_logs\u001b[0m\u001b[0;34m)\u001b[0m\u001b[0;34m\u001b[0m\u001b[0;34m\u001b[0m\u001b[0m\n\u001b[1;32m   1234\u001b[0m \u001b[0;34m\u001b[0m\u001b[0m\n\u001b[0;32m-> 1235\u001b[0;31m         \u001b[0mcallbacks\u001b[0m\u001b[0;34m.\u001b[0m\u001b[0mon_epoch_end\u001b[0m\u001b[0;34m(\u001b[0m\u001b[0mepoch\u001b[0m\u001b[0;34m,\u001b[0m \u001b[0mepoch_logs\u001b[0m\u001b[0;34m)\u001b[0m\u001b[0;34m\u001b[0m\u001b[0;34m\u001b[0m\u001b[0m\n\u001b[0m\u001b[1;32m   1236\u001b[0m         \u001b[0mtraining_logs\u001b[0m \u001b[0;34m=\u001b[0m \u001b[0mepoch_logs\u001b[0m\u001b[0;34m\u001b[0m\u001b[0;34m\u001b[0m\u001b[0m\n\u001b[1;32m   1237\u001b[0m         \u001b[0;32mif\u001b[0m \u001b[0mself\u001b[0m\u001b[0;34m.\u001b[0m\u001b[0mstop_training\u001b[0m\u001b[0;34m:\u001b[0m\u001b[0;34m\u001b[0m\u001b[0;34m\u001b[0m\u001b[0m\n",
      "\u001b[0;32m/usr/local/lib/python3.6/dist-packages/keras/callbacks.py\u001b[0m in \u001b[0;36mon_epoch_end\u001b[0;34m(self, epoch, logs)\u001b[0m\n\u001b[1;32m    411\u001b[0m     \u001b[0mlogs\u001b[0m \u001b[0;34m=\u001b[0m \u001b[0mself\u001b[0m\u001b[0;34m.\u001b[0m\u001b[0m_process_logs\u001b[0m\u001b[0;34m(\u001b[0m\u001b[0mlogs\u001b[0m\u001b[0;34m)\u001b[0m\u001b[0;34m\u001b[0m\u001b[0;34m\u001b[0m\u001b[0m\n\u001b[1;32m    412\u001b[0m     \u001b[0;32mfor\u001b[0m \u001b[0mcallback\u001b[0m \u001b[0;32min\u001b[0m \u001b[0mself\u001b[0m\u001b[0;34m.\u001b[0m\u001b[0mcallbacks\u001b[0m\u001b[0;34m:\u001b[0m\u001b[0;34m\u001b[0m\u001b[0;34m\u001b[0m\u001b[0m\n\u001b[0;32m--> 413\u001b[0;31m       \u001b[0mcallback\u001b[0m\u001b[0;34m.\u001b[0m\u001b[0mon_epoch_end\u001b[0m\u001b[0;34m(\u001b[0m\u001b[0mepoch\u001b[0m\u001b[0;34m,\u001b[0m \u001b[0mlogs\u001b[0m\u001b[0;34m)\u001b[0m\u001b[0;34m\u001b[0m\u001b[0;34m\u001b[0m\u001b[0m\n\u001b[0m\u001b[1;32m    414\u001b[0m \u001b[0;34m\u001b[0m\u001b[0m\n\u001b[1;32m    415\u001b[0m   \u001b[0;32mdef\u001b[0m \u001b[0mon_train_batch_begin\u001b[0m\u001b[0;34m(\u001b[0m\u001b[0mself\u001b[0m\u001b[0;34m,\u001b[0m \u001b[0mbatch\u001b[0m\u001b[0;34m,\u001b[0m \u001b[0mlogs\u001b[0m\u001b[0;34m=\u001b[0m\u001b[0;32mNone\u001b[0m\u001b[0;34m)\u001b[0m\u001b[0;34m:\u001b[0m\u001b[0;34m\u001b[0m\u001b[0;34m\u001b[0m\u001b[0m\n",
      "\u001b[0;32m/usr/local/lib/python3.6/dist-packages/keras/callbacks.py\u001b[0m in \u001b[0;36mon_epoch_end\u001b[0;34m(self, epoch, logs)\u001b[0m\n\u001b[1;32m   1366\u001b[0m     \u001b[0;31m# pylint: disable=protected-access\u001b[0m\u001b[0;34m\u001b[0m\u001b[0;34m\u001b[0m\u001b[0;34m\u001b[0m\u001b[0m\n\u001b[1;32m   1367\u001b[0m     \u001b[0;32mif\u001b[0m \u001b[0mself\u001b[0m\u001b[0;34m.\u001b[0m\u001b[0msave_freq\u001b[0m \u001b[0;34m==\u001b[0m \u001b[0;34m'epoch'\u001b[0m\u001b[0;34m:\u001b[0m\u001b[0;34m\u001b[0m\u001b[0;34m\u001b[0m\u001b[0m\n\u001b[0;32m-> 1368\u001b[0;31m       \u001b[0mself\u001b[0m\u001b[0;34m.\u001b[0m\u001b[0m_save_model\u001b[0m\u001b[0;34m(\u001b[0m\u001b[0mepoch\u001b[0m\u001b[0;34m=\u001b[0m\u001b[0mepoch\u001b[0m\u001b[0;34m,\u001b[0m \u001b[0mbatch\u001b[0m\u001b[0;34m=\u001b[0m\u001b[0;32mNone\u001b[0m\u001b[0;34m,\u001b[0m \u001b[0mlogs\u001b[0m\u001b[0;34m=\u001b[0m\u001b[0mlogs\u001b[0m\u001b[0;34m)\u001b[0m\u001b[0;34m\u001b[0m\u001b[0;34m\u001b[0m\u001b[0m\n\u001b[0m\u001b[1;32m   1369\u001b[0m \u001b[0;34m\u001b[0m\u001b[0m\n\u001b[1;32m   1370\u001b[0m   \u001b[0;32mdef\u001b[0m \u001b[0m_should_save_on_batch\u001b[0m\u001b[0;34m(\u001b[0m\u001b[0mself\u001b[0m\u001b[0;34m,\u001b[0m \u001b[0mbatch\u001b[0m\u001b[0;34m)\u001b[0m\u001b[0;34m:\u001b[0m\u001b[0;34m\u001b[0m\u001b[0;34m\u001b[0m\u001b[0m\n",
      "\u001b[0;32m/usr/local/lib/python3.6/dist-packages/keras/callbacks.py\u001b[0m in \u001b[0;36m_save_model\u001b[0;34m(self, epoch, batch, logs)\u001b[0m\n\u001b[1;32m   1420\u001b[0m                     filepath, overwrite=True, options=self._options)\n\u001b[1;32m   1421\u001b[0m               \u001b[0;32melse\u001b[0m\u001b[0;34m:\u001b[0m\u001b[0;34m\u001b[0m\u001b[0;34m\u001b[0m\u001b[0m\n\u001b[0;32m-> 1422\u001b[0;31m                 \u001b[0mself\u001b[0m\u001b[0;34m.\u001b[0m\u001b[0mmodel\u001b[0m\u001b[0;34m.\u001b[0m\u001b[0msave\u001b[0m\u001b[0;34m(\u001b[0m\u001b[0mfilepath\u001b[0m\u001b[0;34m,\u001b[0m \u001b[0moverwrite\u001b[0m\u001b[0;34m=\u001b[0m\u001b[0;32mTrue\u001b[0m\u001b[0;34m,\u001b[0m \u001b[0moptions\u001b[0m\u001b[0;34m=\u001b[0m\u001b[0mself\u001b[0m\u001b[0;34m.\u001b[0m\u001b[0m_options\u001b[0m\u001b[0;34m)\u001b[0m\u001b[0;34m\u001b[0m\u001b[0;34m\u001b[0m\u001b[0m\n\u001b[0m\u001b[1;32m   1423\u001b[0m             \u001b[0;32melse\u001b[0m\u001b[0;34m:\u001b[0m\u001b[0;34m\u001b[0m\u001b[0;34m\u001b[0m\u001b[0m\n\u001b[1;32m   1424\u001b[0m               \u001b[0;32mif\u001b[0m \u001b[0mself\u001b[0m\u001b[0;34m.\u001b[0m\u001b[0mverbose\u001b[0m \u001b[0;34m>\u001b[0m \u001b[0;36m0\u001b[0m\u001b[0;34m:\u001b[0m\u001b[0;34m\u001b[0m\u001b[0;34m\u001b[0m\u001b[0m\n",
      "\u001b[0;32m/usr/local/lib/python3.6/dist-packages/keras/engine/training.py\u001b[0m in \u001b[0;36msave\u001b[0;34m(self, filepath, overwrite, include_optimizer, save_format, signatures, options, save_traces)\u001b[0m\n\u001b[1;32m   2149\u001b[0m     \u001b[0;31m# pylint: enable=line-too-long\u001b[0m\u001b[0;34m\u001b[0m\u001b[0;34m\u001b[0m\u001b[0;34m\u001b[0m\u001b[0m\n\u001b[1;32m   2150\u001b[0m     save.save_model(self, filepath, overwrite, include_optimizer, save_format,\n\u001b[0;32m-> 2151\u001b[0;31m                     signatures, options, save_traces)\n\u001b[0m\u001b[1;32m   2152\u001b[0m \u001b[0;34m\u001b[0m\u001b[0m\n\u001b[1;32m   2153\u001b[0m   def save_weights(self,\n",
      "\u001b[0;32m/usr/local/lib/python3.6/dist-packages/keras/saving/save.py\u001b[0m in \u001b[0;36msave_model\u001b[0;34m(model, filepath, overwrite, include_optimizer, save_format, signatures, options, save_traces)\u001b[0m\n\u001b[1;32m    144\u001b[0m           'or using `save_weights`.')\n\u001b[1;32m    145\u001b[0m     hdf5_format.save_model_to_hdf5(\n\u001b[0;32m--> 146\u001b[0;31m         model, filepath, overwrite, include_optimizer)\n\u001b[0m\u001b[1;32m    147\u001b[0m   \u001b[0;32melse\u001b[0m\u001b[0;34m:\u001b[0m\u001b[0;34m\u001b[0m\u001b[0;34m\u001b[0m\u001b[0m\n\u001b[1;32m    148\u001b[0m     \u001b[0;32mwith\u001b[0m \u001b[0mgeneric_utils\u001b[0m\u001b[0;34m.\u001b[0m\u001b[0mSharedObjectSavingScope\u001b[0m\u001b[0;34m(\u001b[0m\u001b[0;34m)\u001b[0m\u001b[0;34m:\u001b[0m\u001b[0;34m\u001b[0m\u001b[0;34m\u001b[0m\u001b[0m\n",
      "\u001b[0;32m/usr/local/lib/python3.6/dist-packages/keras/saving/hdf5_format.py\u001b[0m in \u001b[0;36msave_model_to_hdf5\u001b[0;34m(model, filepath, overwrite, include_optimizer)\u001b[0m\n\u001b[1;32m    118\u001b[0m     \u001b[0mmodel_weights_group\u001b[0m \u001b[0;34m=\u001b[0m \u001b[0mf\u001b[0m\u001b[0;34m.\u001b[0m\u001b[0mcreate_group\u001b[0m\u001b[0;34m(\u001b[0m\u001b[0;34m'model_weights'\u001b[0m\u001b[0;34m)\u001b[0m\u001b[0;34m\u001b[0m\u001b[0;34m\u001b[0m\u001b[0m\n\u001b[1;32m    119\u001b[0m     \u001b[0mmodel_layers\u001b[0m \u001b[0;34m=\u001b[0m \u001b[0mmodel\u001b[0m\u001b[0;34m.\u001b[0m\u001b[0mlayers\u001b[0m\u001b[0;34m\u001b[0m\u001b[0;34m\u001b[0m\u001b[0m\n\u001b[0;32m--> 120\u001b[0;31m     \u001b[0msave_weights_to_hdf5_group\u001b[0m\u001b[0;34m(\u001b[0m\u001b[0mmodel_weights_group\u001b[0m\u001b[0;34m,\u001b[0m \u001b[0mmodel_layers\u001b[0m\u001b[0;34m)\u001b[0m\u001b[0;34m\u001b[0m\u001b[0;34m\u001b[0m\u001b[0m\n\u001b[0m\u001b[1;32m    121\u001b[0m \u001b[0;34m\u001b[0m\u001b[0m\n\u001b[1;32m    122\u001b[0m     \u001b[0;31m# TODO(b/128683857): Add integration tests between tf.keras and external\u001b[0m\u001b[0;34m\u001b[0m\u001b[0;34m\u001b[0m\u001b[0;34m\u001b[0m\u001b[0m\n",
      "\u001b[0;32m/usr/local/lib/python3.6/dist-packages/keras/saving/hdf5_format.py\u001b[0m in \u001b[0;36msave_weights_to_hdf5_group\u001b[0;34m(f, layers)\u001b[0m\n\u001b[1;32m    635\u001b[0m     \u001b[0mg\u001b[0m \u001b[0;34m=\u001b[0m \u001b[0mf\u001b[0m\u001b[0;34m.\u001b[0m\u001b[0mcreate_group\u001b[0m\u001b[0;34m(\u001b[0m\u001b[0mlayer\u001b[0m\u001b[0;34m.\u001b[0m\u001b[0mname\u001b[0m\u001b[0;34m)\u001b[0m\u001b[0;34m\u001b[0m\u001b[0;34m\u001b[0m\u001b[0m\n\u001b[1;32m    636\u001b[0m     \u001b[0mweights\u001b[0m \u001b[0;34m=\u001b[0m \u001b[0m_legacy_weights\u001b[0m\u001b[0;34m(\u001b[0m\u001b[0mlayer\u001b[0m\u001b[0;34m)\u001b[0m\u001b[0;34m\u001b[0m\u001b[0;34m\u001b[0m\u001b[0m\n\u001b[0;32m--> 637\u001b[0;31m     \u001b[0mweight_values\u001b[0m \u001b[0;34m=\u001b[0m \u001b[0mbackend\u001b[0m\u001b[0;34m.\u001b[0m\u001b[0mbatch_get_value\u001b[0m\u001b[0;34m(\u001b[0m\u001b[0mweights\u001b[0m\u001b[0;34m)\u001b[0m\u001b[0;34m\u001b[0m\u001b[0;34m\u001b[0m\u001b[0m\n\u001b[0m\u001b[1;32m    638\u001b[0m     \u001b[0mweight_names\u001b[0m \u001b[0;34m=\u001b[0m \u001b[0;34m[\u001b[0m\u001b[0mw\u001b[0m\u001b[0;34m.\u001b[0m\u001b[0mname\u001b[0m\u001b[0;34m.\u001b[0m\u001b[0mencode\u001b[0m\u001b[0;34m(\u001b[0m\u001b[0;34m'utf8'\u001b[0m\u001b[0;34m)\u001b[0m \u001b[0;32mfor\u001b[0m \u001b[0mw\u001b[0m \u001b[0;32min\u001b[0m \u001b[0mweights\u001b[0m\u001b[0;34m]\u001b[0m\u001b[0;34m\u001b[0m\u001b[0;34m\u001b[0m\u001b[0m\n\u001b[1;32m    639\u001b[0m     \u001b[0msave_attributes_to_hdf5_group\u001b[0m\u001b[0;34m(\u001b[0m\u001b[0mg\u001b[0m\u001b[0;34m,\u001b[0m \u001b[0;34m'weight_names'\u001b[0m\u001b[0;34m,\u001b[0m \u001b[0mweight_names\u001b[0m\u001b[0;34m)\u001b[0m\u001b[0;34m\u001b[0m\u001b[0;34m\u001b[0m\u001b[0m\n",
      "\u001b[0;32m/usr/local/lib/python3.6/dist-packages/tensorflow/python/util/dispatch.py\u001b[0m in \u001b[0;36mwrapper\u001b[0;34m(*args, **kwargs)\u001b[0m\n\u001b[1;32m    204\u001b[0m     \u001b[0;34m\"\"\"Call target, and fall back on dispatchers if there is a TypeError.\"\"\"\u001b[0m\u001b[0;34m\u001b[0m\u001b[0;34m\u001b[0m\u001b[0m\n\u001b[1;32m    205\u001b[0m     \u001b[0;32mtry\u001b[0m\u001b[0;34m:\u001b[0m\u001b[0;34m\u001b[0m\u001b[0;34m\u001b[0m\u001b[0m\n\u001b[0;32m--> 206\u001b[0;31m       \u001b[0;32mreturn\u001b[0m \u001b[0mtarget\u001b[0m\u001b[0;34m(\u001b[0m\u001b[0;34m*\u001b[0m\u001b[0margs\u001b[0m\u001b[0;34m,\u001b[0m \u001b[0;34m**\u001b[0m\u001b[0mkwargs\u001b[0m\u001b[0;34m)\u001b[0m\u001b[0;34m\u001b[0m\u001b[0;34m\u001b[0m\u001b[0m\n\u001b[0m\u001b[1;32m    207\u001b[0m     \u001b[0;32mexcept\u001b[0m \u001b[0;34m(\u001b[0m\u001b[0mTypeError\u001b[0m\u001b[0;34m,\u001b[0m \u001b[0mValueError\u001b[0m\u001b[0;34m)\u001b[0m\u001b[0;34m:\u001b[0m\u001b[0;34m\u001b[0m\u001b[0;34m\u001b[0m\u001b[0m\n\u001b[1;32m    208\u001b[0m       \u001b[0;31m# Note: convert_to_eager_tensor currently raises a ValueError, not a\u001b[0m\u001b[0;34m\u001b[0m\u001b[0;34m\u001b[0m\u001b[0;34m\u001b[0m\u001b[0m\n",
      "\u001b[0;32m/usr/local/lib/python3.6/dist-packages/keras/backend.py\u001b[0m in \u001b[0;36mbatch_get_value\u001b[0;34m(tensors)\u001b[0m\n\u001b[1;32m   3713\u001b[0m   \"\"\"\n\u001b[1;32m   3714\u001b[0m   \u001b[0;32mif\u001b[0m \u001b[0mtf\u001b[0m\u001b[0;34m.\u001b[0m\u001b[0mexecuting_eagerly\u001b[0m\u001b[0;34m(\u001b[0m\u001b[0;34m)\u001b[0m\u001b[0;34m:\u001b[0m\u001b[0;34m\u001b[0m\u001b[0;34m\u001b[0m\u001b[0m\n\u001b[0;32m-> 3715\u001b[0;31m     \u001b[0;32mreturn\u001b[0m \u001b[0;34m[\u001b[0m\u001b[0mx\u001b[0m\u001b[0;34m.\u001b[0m\u001b[0mnumpy\u001b[0m\u001b[0;34m(\u001b[0m\u001b[0;34m)\u001b[0m \u001b[0;32mfor\u001b[0m \u001b[0mx\u001b[0m \u001b[0;32min\u001b[0m \u001b[0mtensors\u001b[0m\u001b[0;34m]\u001b[0m\u001b[0;34m\u001b[0m\u001b[0;34m\u001b[0m\u001b[0m\n\u001b[0m\u001b[1;32m   3716\u001b[0m   \u001b[0;32melif\u001b[0m \u001b[0mtf\u001b[0m\u001b[0;34m.\u001b[0m\u001b[0minside_function\u001b[0m\u001b[0;34m(\u001b[0m\u001b[0;34m)\u001b[0m\u001b[0;34m:\u001b[0m  \u001b[0;31m# pylint: disable=protected-access\u001b[0m\u001b[0;34m\u001b[0m\u001b[0;34m\u001b[0m\u001b[0m\n\u001b[1;32m   3717\u001b[0m     \u001b[0;32mraise\u001b[0m \u001b[0mRuntimeError\u001b[0m\u001b[0;34m(\u001b[0m\u001b[0;34m'Cannot get value inside Tensorflow graph function.'\u001b[0m\u001b[0;34m)\u001b[0m\u001b[0;34m\u001b[0m\u001b[0;34m\u001b[0m\u001b[0m\n",
      "\u001b[0;32m/usr/local/lib/python3.6/dist-packages/keras/backend.py\u001b[0m in \u001b[0;36m<listcomp>\u001b[0;34m(.0)\u001b[0m\n\u001b[1;32m   3713\u001b[0m   \"\"\"\n\u001b[1;32m   3714\u001b[0m   \u001b[0;32mif\u001b[0m \u001b[0mtf\u001b[0m\u001b[0;34m.\u001b[0m\u001b[0mexecuting_eagerly\u001b[0m\u001b[0;34m(\u001b[0m\u001b[0;34m)\u001b[0m\u001b[0;34m:\u001b[0m\u001b[0;34m\u001b[0m\u001b[0;34m\u001b[0m\u001b[0m\n\u001b[0;32m-> 3715\u001b[0;31m     \u001b[0;32mreturn\u001b[0m \u001b[0;34m[\u001b[0m\u001b[0mx\u001b[0m\u001b[0;34m.\u001b[0m\u001b[0mnumpy\u001b[0m\u001b[0;34m(\u001b[0m\u001b[0;34m)\u001b[0m \u001b[0;32mfor\u001b[0m \u001b[0mx\u001b[0m \u001b[0;32min\u001b[0m \u001b[0mtensors\u001b[0m\u001b[0;34m]\u001b[0m\u001b[0;34m\u001b[0m\u001b[0;34m\u001b[0m\u001b[0m\n\u001b[0m\u001b[1;32m   3716\u001b[0m   \u001b[0;32melif\u001b[0m \u001b[0mtf\u001b[0m\u001b[0;34m.\u001b[0m\u001b[0minside_function\u001b[0m\u001b[0;34m(\u001b[0m\u001b[0;34m)\u001b[0m\u001b[0;34m:\u001b[0m  \u001b[0;31m# pylint: disable=protected-access\u001b[0m\u001b[0;34m\u001b[0m\u001b[0;34m\u001b[0m\u001b[0m\n\u001b[1;32m   3717\u001b[0m     \u001b[0;32mraise\u001b[0m \u001b[0mRuntimeError\u001b[0m\u001b[0;34m(\u001b[0m\u001b[0;34m'Cannot get value inside Tensorflow graph function.'\u001b[0m\u001b[0;34m)\u001b[0m\u001b[0;34m\u001b[0m\u001b[0;34m\u001b[0m\u001b[0m\n",
      "\u001b[0;32m/usr/local/lib/python3.6/dist-packages/tensorflow/python/distribute/values.py\u001b[0m in \u001b[0;36mnumpy\u001b[0;34m(self)\u001b[0m\n\u001b[1;32m    773\u001b[0m   \u001b[0;32mdef\u001b[0m \u001b[0mnumpy\u001b[0m\u001b[0;34m(\u001b[0m\u001b[0mself\u001b[0m\u001b[0;34m)\u001b[0m\u001b[0;34m:\u001b[0m\u001b[0;34m\u001b[0m\u001b[0;34m\u001b[0m\u001b[0m\n\u001b[1;32m    774\u001b[0m     \u001b[0;32mif\u001b[0m \u001b[0mcontext\u001b[0m\u001b[0;34m.\u001b[0m\u001b[0mexecuting_eagerly\u001b[0m\u001b[0;34m(\u001b[0m\u001b[0;34m)\u001b[0m\u001b[0;34m:\u001b[0m\u001b[0;34m\u001b[0m\u001b[0;34m\u001b[0m\u001b[0m\n\u001b[0;32m--> 775\u001b[0;31m       \u001b[0;32mreturn\u001b[0m \u001b[0mself\u001b[0m\u001b[0;34m.\u001b[0m\u001b[0mread_value\u001b[0m\u001b[0;34m(\u001b[0m\u001b[0;34m)\u001b[0m\u001b[0;34m.\u001b[0m\u001b[0mnumpy\u001b[0m\u001b[0;34m(\u001b[0m\u001b[0;34m)\u001b[0m\u001b[0;34m\u001b[0m\u001b[0;34m\u001b[0m\u001b[0m\n\u001b[0m\u001b[1;32m    776\u001b[0m     \u001b[0;32melse\u001b[0m\u001b[0;34m:\u001b[0m\u001b[0;34m\u001b[0m\u001b[0;34m\u001b[0m\u001b[0m\n\u001b[1;32m    777\u001b[0m       raise NotImplementedError(\n",
      "\u001b[0;32m/usr/local/lib/python3.6/dist-packages/tensorflow/python/framework/ops.py\u001b[0m in \u001b[0;36mnumpy\u001b[0;34m(self)\u001b[0m\n\u001b[1;32m   1093\u001b[0m     \u001b[0;31m# TODO(slebedev): Consider avoiding a copy for non-CPU or remote tensors.\u001b[0m\u001b[0;34m\u001b[0m\u001b[0;34m\u001b[0m\u001b[0;34m\u001b[0m\u001b[0m\n\u001b[1;32m   1094\u001b[0m     \u001b[0mmaybe_arr\u001b[0m \u001b[0;34m=\u001b[0m \u001b[0mself\u001b[0m\u001b[0;34m.\u001b[0m\u001b[0m_numpy\u001b[0m\u001b[0;34m(\u001b[0m\u001b[0;34m)\u001b[0m  \u001b[0;31m# pylint: disable=protected-access\u001b[0m\u001b[0;34m\u001b[0m\u001b[0;34m\u001b[0m\u001b[0m\n\u001b[0;32m-> 1095\u001b[0;31m     \u001b[0;32mreturn\u001b[0m \u001b[0mmaybe_arr\u001b[0m\u001b[0;34m.\u001b[0m\u001b[0mcopy\u001b[0m\u001b[0;34m(\u001b[0m\u001b[0;34m)\u001b[0m \u001b[0;32mif\u001b[0m \u001b[0misinstance\u001b[0m\u001b[0;34m(\u001b[0m\u001b[0mmaybe_arr\u001b[0m\u001b[0;34m,\u001b[0m \u001b[0mnp\u001b[0m\u001b[0;34m.\u001b[0m\u001b[0mndarray\u001b[0m\u001b[0;34m)\u001b[0m \u001b[0;32melse\u001b[0m \u001b[0mmaybe_arr\u001b[0m\u001b[0;34m\u001b[0m\u001b[0;34m\u001b[0m\u001b[0m\n\u001b[0m\u001b[1;32m   1096\u001b[0m \u001b[0;34m\u001b[0m\u001b[0m\n\u001b[1;32m   1097\u001b[0m   \u001b[0;34m@\u001b[0m\u001b[0mproperty\u001b[0m\u001b[0;34m\u001b[0m\u001b[0;34m\u001b[0m\u001b[0m\n",
      "\u001b[0;31mKeyboardInterrupt\u001b[0m: "
     ]
    }
   ],
   "source": [
    "from tensorflow.keras.callbacks import EarlyStopping, ModelCheckpoint\n",
    "from sklearn.model_selection import KFold\n",
    "from sklearn.model_selection import StratifiedKFold\n",
    "\n",
    "\n",
    "# kfold = KFold(n_splits=5, shuffle=True)\n",
    "skf = StratifiedKFold(n_splits=5, random_state=42, shuffle=True)\n",
    "\n",
    "fold_no = 1\n",
    "for e, (train, val) in enumerate(skf.split(images, np.argmax(targets, axis=1))):\n",
    "\n",
    "\n",
    "    print('------------------------------------------------------------------------')\n",
    "    print(f'Training for fold {fold_no} ...')\n",
    "\n",
    "    \n",
    "    X_train = images[train]\n",
    "    y_train = targets[train]\n",
    "    X_valid = images[val]\n",
    "    y_valid = targets[val]\n",
    "    \n",
    "#     modelpath = \"./vit_model/vit_aug_{epoch:02d}-{val_loss:.4f}_fold_%d.hdf5\" % fold_no\n",
    "    checkpoint = ModelCheckpoint('./vit_model'+f'/check{e}_b32.h5', verbose=1, save_best_only=True)\n",
    "    early_stopping_callback = EarlyStopping(monitor='val_loss', patience=5)\n",
    "\n",
    "    AdaBelief = AdaBeliefOptimizer(learning_rate=1e-3, epsilon=1e-8, weight_decay=1e-2)\n",
    "#     cosine_scheduler = CosineAnnealingScheduler(num_epochs, max_rate, min_rate, cycle)\n",
    "#     optimizer = tfa.optimizers.AdamW(\n",
    "#         learning_rate=learning_rate, weight_decay=weight_decay\n",
    "#     )\n",
    "    \n",
    "#     learning_rate = 1e-4\n",
    "\n",
    "#     optimizer = tfa.optimizers.RectifiedAdam(learning_rate = learning_rate)\n",
    "\n",
    "    with strategy.scope():\n",
    "        model = vit_model()\n",
    "        model.compile(loss='categorical_crossentropy',optimizer=AdaBelief, metrics=['accuracy'])\n",
    "\n",
    "#     for i in range(1, num_epochs + 1):\n",
    "#         cosine_scheduler.plot(i)\n",
    "\n",
    "#     plt.plot(cosine_scheduler.lrates)\n",
    "#     plt.title('Cosine Annealing_Toy')\n",
    "#     plt.xlabel('epochs'); plt.ylabel('learning_rate')\n",
    "#     plt.grid()\n",
    "#     plt.show()\n",
    "\n",
    "#     training_generator = datagen.flow(X_train, y_train, batch_size=batch_size, seed=77, shuffle=True)\n",
    "#     validation_generator = valgen.flow(X_valid, y_valid, batch_size=batch_size, seed=77, shuffle=True)\n",
    "    history = model.fit(\n",
    "        X_train, y_train, \n",
    "        validation_data = (X_valid,y_valid),\n",
    "        verbose = 1,\n",
    "        shuffle=True,\n",
    "        epochs=num_epochs,\n",
    "        callbacks=[checkpoint, early_stopping_callback]\n",
    "    )\n",
    "    \n",
    "#     history = model.fit(\n",
    "#         training_generator,\n",
    "#         shuffle=True,\n",
    "#         steps_per_epoch =len(X_train)//batch_size,\n",
    "#         epochs=num_epochs,\n",
    "#         validation_data=validation_generator,\n",
    "#         callbacks=[checkpoint, early_stopping_callback,cosine_scheduler]\n",
    "#     )\n",
    "    \n",
    "    \n",
    "    fold_no += 1\n"
   ]
  },
  {
   "cell_type": "code",
   "execution_count": null,
   "metadata": {},
   "outputs": [],
   "source": [
    "import matplotlib.pyplot as plt\n",
    "\n",
    "fig, loss_ax = plt.subplots()\n",
    "acc_ax = loss_ax.twinx()\n",
    "\n",
    "loss_ax.plot(history.history['loss'], 'y', label='train loss')\n",
    "loss_ax.plot(history.history['val_loss'], 'r', label='val loss')\n",
    "loss_ax.set_xlabel('epoch')\n",
    "loss_ax.set_ylabel('loss')\n",
    "loss_ax.legend(loc='upper left')\n",
    "\n",
    "acc_ax.plot(history.history['accuracy'], 'b', label='train acc')\n",
    "acc_ax.plot(history.history['val_accuracy'], 'g', label='val acc')\n",
    "acc_ax.set_ylabel('accuracy')\n",
    "acc_ax.legend(loc='upper left')\n",
    "\n",
    "plt.show()"
   ]
  },
  {
   "cell_type": "code",
   "execution_count": null,
   "metadata": {},
   "outputs": [],
   "source": [
    "# model_name1 = 'vit_aug_10-0.0001_fold_1.hdf5'\n",
    "# model1 = load_model('./vit_model/%s' % model_name1, custom_objects={'AdaBeliefOptimizer' : AdaBeliefOptimizer})\n",
    "# model_name2 = 'vit_aug_10-0.0012_fold_2.hdf5'\n",
    "# model2 = load_model('./vit_model/%s' % model_name2, custom_objects={'AdaBeliefOptimizer' : AdaBeliefOptimizer})\n",
    "# model_name3 = 'vit_aug_10-0.0003_fold_3.hdf5'\n",
    "# model3 = load_model('./vit_model/%s' % model_name3, custom_objects={'AdaBeliefOptimizer' : AdaBeliefOptimizer})\n",
    "# model_name4 = 'vit_aug_07-0.0006_fold_4.hdf5'\n",
    "# model4 = load_model('./vit_model/%s' % model_name4, custom_objects={'AdaBeliefOptimizer' : AdaBeliefOptimizer})\n",
    "# model_name5 = 'vit_aug_07-0.0011_fold_5.hdf5'\n",
    "# model5 = load_model('./vit_model/%s' % model_name5, custom_objects={'AdaBeliefOptimizer' : AdaBeliefOptimizer})"
   ]
  },
  {
   "cell_type": "code",
   "execution_count": null,
   "metadata": {},
   "outputs": [],
   "source": [
    "# all_model = [model1, model2, model3, model4, model5]"
   ]
  },
  {
   "cell_type": "code",
   "execution_count": null,
   "metadata": {},
   "outputs": [],
   "source": [
    "# import time\n",
    "# start = time.time()  # 시작 시간 저장\n",
    "\n",
    "# new_test_image_directory = new_image_directory + '/test'\n",
    "# new_test_image_directories = sorted(glob(new_test_image_directory + '/*'), key = lambda x : int(x.split('file_')[-1]))\n",
    "\n",
    "# sub=np.zeros((np.array(new_test_image_directories).shape[0], classes.shape[1])) \n",
    "\n",
    "# for e in range(5):\n",
    "    \n",
    "#     model = vit_model()\n",
    "#     model.load_weights('./vit_model'+f'/check{e}_b32.h5')\n",
    "    \n",
    "#     predictions = []\n",
    "#     for new_test_image_directory in tqdm(new_test_image_directories, total = len(new_test_image_directories)) :\n",
    "#         image_paths = sorted(glob(new_test_image_directory + '/*.jpg'), key = lambda x : int(x.split('/')[-1].replace('.jpg','')))\n",
    "#         image_len = len(image_paths)\n",
    "#         test_images  = []\n",
    "#         for image_path in image_paths:\n",
    "#             img = image.load_img(image_path, target_size=(image_size,image_size,3))\n",
    "#             img = image.img_to_array(img)\n",
    "#             img = img/255\n",
    "#             test_images.append(img)\n",
    "#         prediction = np.mean(model.predict(np.array(test_images)), axis = 0)\n",
    "#         predictions.append(prediction)\n",
    "    \n",
    "#     sub+=predictions\n",
    "    \n",
    "# print(\"time :\", time.time() - start)  # 현재시각 - 시작시간 = 실행 시간"
   ]
  },
  {
   "cell_type": "code",
   "execution_count": 45,
   "metadata": {},
   "outputs": [
    {
     "name": "stderr",
     "output_type": "stream",
     "text": [
      "100%|██████████| 45/45 [00:16<00:00,  2.78it/s]"
     ]
    },
    {
     "name": "stdout",
     "output_type": "stream",
     "text": [
      "time : 22.078592538833618\n"
     ]
    },
    {
     "name": "stderr",
     "output_type": "stream",
     "text": [
      "\n"
     ]
    }
   ],
   "source": [
    "import time\n",
    "start = time.time()  # 시작 시간 저장\n",
    "\n",
    "new_test_image_directory = new_image_directory + '/test2'\n",
    "new_test_image_directories = sorted(glob(new_test_image_directory + '/*'), key = lambda x : int(x.split('file_')[-1]))\n",
    "\n",
    "e = 1\n",
    "model = vit_model()\n",
    "model.load_weights('./vit_model'+f'/check{e}_b32.h5')\n",
    "\n",
    "predictions = []\n",
    "for new_test_image_directory in tqdm(new_test_image_directories, total = len(new_test_image_directories)) :\n",
    "    image_paths = sorted(glob(new_test_image_directory + '/*.jpg'), key = lambda x : int(x.split('/')[-1].replace('.jpg','')))\n",
    "    image_len = len(image_paths)\n",
    "    test_images  = []\n",
    "    for image_path in image_paths:\n",
    "        img = image.load_img(image_path, target_size=(image_size,image_size,3))\n",
    "        img = image.img_to_array(img)\n",
    "        img = img/255\n",
    "        test_images.append(img)\n",
    "    prediction = np.mean(model.predict(np.array(test_images)), axis = 0)\n",
    "    predictions.append(prediction)\n",
    "\n",
    "    \n",
    "print(\"time :\", time.time() - start)  # 현재시각 - 시작시간 = 실행 시간"
   ]
  },
  {
   "cell_type": "code",
   "execution_count": 46,
   "metadata": {
    "scrolled": true
   },
   "outputs": [
    {
     "data": {
      "text/plain": [
       "[array([0.00899391, 0.00796251, 0.90087587, 0.07337725, 0.00701098,\n",
       "        0.00177952], dtype=float32),\n",
       " array([9.0544738e-05, 2.5087496e-04, 4.1353441e-04, 3.2214119e-04,\n",
       "        1.1592880e-02, 9.8733008e-01], dtype=float32),\n",
       " array([1.4259794e-04, 2.7346659e-05, 1.4531076e-02, 9.8512757e-01,\n",
       "        1.4429768e-04, 2.7165855e-05], dtype=float32),\n",
       " array([7.4022473e-04, 5.7092193e-04, 7.5950599e-01, 2.8667620e-03,\n",
       "        5.3227205e-02, 1.8308897e-01], dtype=float32),\n",
       " array([9.9921131e-01, 2.4869194e-04, 1.1945504e-04, 9.0899361e-05,\n",
       "        1.9234372e-04, 1.3748556e-04], dtype=float32),\n",
       " array([8.1432414e-01, 3.1124509e-04, 3.9500813e-04, 1.0882830e-04,\n",
       "        1.8431115e-01, 5.4958346e-04], dtype=float32),\n",
       " array([8.2648635e-01, 1.2485912e-01, 3.9756537e-04, 6.3697645e-04,\n",
       "        4.7591943e-02, 2.7956574e-05], dtype=float32),\n",
       " array([2.1974443e-04, 2.6681009e-04, 2.6864241e-04, 6.2315864e-04,\n",
       "        9.9858397e-01, 3.7755737e-05], dtype=float32),\n",
       " array([0.00222821, 0.8359426 , 0.00888287, 0.00648437, 0.13475195,\n",
       "        0.01170992], dtype=float32),\n",
       " array([3.7833670e-04, 3.2814693e-05, 1.0963052e-04, 3.8189933e-06,\n",
       "        1.6356619e-03, 9.9783969e-01], dtype=float32),\n",
       " array([2.7644342e-02, 1.5427061e-02, 1.5230701e-02, 9.7511736e-05,\n",
       "        2.5822272e-04, 9.4134218e-01], dtype=float32),\n",
       " array([9.9916803e-04, 4.7449081e-05, 2.2463414e-03, 4.0671555e-05,\n",
       "        5.1336563e-03, 9.9153280e-01], dtype=float32),\n",
       " array([5.3733963e-01, 2.6303373e-04, 3.1298820e-02, 2.8265086e-01,\n",
       "        2.7839895e-02, 1.2060769e-01], dtype=float32),\n",
       " array([9.70355093e-01, 7.02954363e-03, 8.27108961e-05, 1.10162015e-04,\n",
       "        2.23939326e-02, 2.85128572e-05], dtype=float32),\n",
       " array([8.8968527e-01, 1.9554843e-03, 8.5285325e-03, 9.1115071e-05,\n",
       "        9.4043374e-02, 5.6964443e-03], dtype=float32),\n",
       " array([0.0222783 , 0.07541164, 0.16910242, 0.00549911, 0.6372896 ,\n",
       "        0.09041893], dtype=float32),\n",
       " array([2.1771437e-01, 7.3729834e-04, 1.6295184e-04, 2.7145071e-02,\n",
       "        7.5421029e-01, 2.9921648e-05], dtype=float32),\n",
       " array([3.8833550e-06, 6.1861159e-05, 4.3598480e-05, 6.3606767e-06,\n",
       "        9.9985754e-01, 2.6884645e-05], dtype=float32),\n",
       " array([1.1643227e-05, 1.5912447e-04, 2.5348475e-03, 2.5021986e-04,\n",
       "        1.9938541e-06, 9.9704218e-01], dtype=float32),\n",
       " array([6.2453146e-03, 2.3673504e-04, 2.2197852e-03, 4.5399394e-04,\n",
       "        1.7074685e-01, 8.2009733e-01], dtype=float32),\n",
       " array([2.5579495e-02, 7.4144412e-04, 4.1983607e-01, 2.2068921e-01,\n",
       "        3.3293352e-01, 2.2029152e-04], dtype=float32),\n",
       " array([4.8189852e-02, 1.8640423e-05, 1.8569476e-04, 9.3616509e-01,\n",
       "        1.4509821e-02, 9.3086465e-04], dtype=float32),\n",
       " array([1.11429596e-04, 5.12750603e-06, 2.72960915e-06, 9.99669552e-01,\n",
       "        2.08611484e-04, 2.59006742e-06], dtype=float32),\n",
       " array([4.9092592e-04, 3.0956075e-05, 7.8855094e-04, 8.8382432e-05,\n",
       "        4.3373358e-02, 9.5522785e-01], dtype=float32),\n",
       " array([3.2871805e-02, 9.8763267e-04, 6.7163166e-03, 3.8776276e-04,\n",
       "        4.1068086e-01, 5.4835564e-01], dtype=float32),\n",
       " array([0.14501525, 0.00972601, 0.72787786, 0.00282327, 0.08391921,\n",
       "        0.03063836], dtype=float32),\n",
       " array([6.4457637e-01, 5.2962557e-04, 1.4258602e-04, 1.2076534e-04,\n",
       "        3.5410726e-01, 5.2349753e-04], dtype=float32),\n",
       " array([1.0120958e-01, 1.7312687e-04, 9.6027192e-04, 4.4838904e-04,\n",
       "        8.9585894e-01, 1.3498494e-03], dtype=float32),\n",
       " array([0.6174302 , 0.00080374, 0.00226211, 0.00522754, 0.37217948,\n",
       "        0.00209692], dtype=float32),\n",
       " array([9.9638969e-01, 8.5724154e-05, 5.9955109e-05, 3.5413038e-06,\n",
       "        1.1750065e-03, 2.2858488e-03], dtype=float32),\n",
       " array([5.2384287e-01, 9.3397990e-05, 2.0665082e-04, 7.3136464e-03,\n",
       "        4.6661660e-01, 1.9268979e-03], dtype=float32),\n",
       " array([3.1218244e-04, 3.3213443e-04, 4.6192801e-01, 3.0515116e-02,\n",
       "        4.3400815e-01, 7.2904423e-02], dtype=float32),\n",
       " array([0.13811058, 0.16918363, 0.36112702, 0.00100863, 0.24623354,\n",
       "        0.08433676], dtype=float32),\n",
       " array([8.8536891e-04, 6.5501672e-03, 4.0009464e-03, 1.1773095e-02,\n",
       "        3.5581529e-02, 9.4120884e-01], dtype=float32),\n",
       " array([1.4289055e-04, 9.8071223e-01, 9.6139812e-04, 2.0381848e-03,\n",
       "        1.5316587e-02, 8.2877098e-04], dtype=float32),\n",
       " array([0.53788406, 0.1326398 , 0.08400816, 0.02335801, 0.21873064,\n",
       "        0.00337933], dtype=float32),\n",
       " array([1.0441444e-03, 9.6485806e-01, 9.2049019e-04, 1.5743267e-03,\n",
       "        2.7212806e-02, 4.3901587e-03], dtype=float32),\n",
       " array([0.13833316, 0.03582318, 0.20124947, 0.0064463 , 0.5878606 ,\n",
       "        0.03028727], dtype=float32),\n",
       " array([8.3489454e-01, 7.8315387e-04, 2.7852571e-02, 1.2186143e-01,\n",
       "        1.1455488e-02, 3.1529495e-03], dtype=float32),\n",
       " array([0.22167343, 0.05403427, 0.5038457 , 0.00131201, 0.12739313,\n",
       "        0.09174149], dtype=float32),\n",
       " array([0.17654419, 0.01289262, 0.4954273 , 0.0049591 , 0.06648301,\n",
       "        0.24369359], dtype=float32),\n",
       " array([0.22173698, 0.23907381, 0.14753419, 0.01259452, 0.2044669 ,\n",
       "        0.17459355], dtype=float32),\n",
       " array([0.5128816 , 0.03225385, 0.19975476, 0.00887806, 0.08358058,\n",
       "        0.16265123], dtype=float32),\n",
       " array([9.7242904e-05, 3.4816971e-04, 4.2231477e-04, 4.4596538e-02,\n",
       "        8.0767643e-01, 1.4685917e-01], dtype=float32),\n",
       " array([0.2001564 , 0.00546826, 0.22687638, 0.32581973, 0.216186  ,\n",
       "        0.02549329], dtype=float32)]"
      ]
     },
     "execution_count": 46,
     "metadata": {},
     "output_type": "execute_result"
    }
   ],
   "source": [
    "predictions"
   ]
  },
  {
   "cell_type": "code",
   "execution_count": null,
   "metadata": {
    "scrolled": true
   },
   "outputs": [],
   "source": [
    "# mean_sub = sub/5\n",
    "# mean_sub.shape"
   ]
  },
  {
   "cell_type": "code",
   "execution_count": null,
   "metadata": {},
   "outputs": [],
   "source": [
    "# mean_sub[0]"
   ]
  },
  {
   "cell_type": "code",
   "execution_count": 47,
   "metadata": {},
   "outputs": [
    {
     "data": {
      "text/html": [
       "<div>\n",
       "<style scoped>\n",
       "    .dataframe tbody tr th:only-of-type {\n",
       "        vertical-align: middle;\n",
       "    }\n",
       "\n",
       "    .dataframe tbody tr th {\n",
       "        vertical-align: top;\n",
       "    }\n",
       "\n",
       "    .dataframe thead th {\n",
       "        text-align: right;\n",
       "    }\n",
       "</style>\n",
       "<table border=\"1\" class=\"dataframe\">\n",
       "  <thead>\n",
       "    <tr style=\"text-align: right;\">\n",
       "      <th></th>\n",
       "      <th>file_path</th>\n",
       "      <th>Label_0</th>\n",
       "      <th>Label_1</th>\n",
       "      <th>Label_2</th>\n",
       "      <th>Label_3</th>\n",
       "      <th>Label_4</th>\n",
       "      <th>Label_5</th>\n",
       "    </tr>\n",
       "  </thead>\n",
       "  <tbody>\n",
       "    <tr>\n",
       "      <th>0</th>\n",
       "      <td>./test\\file_142</td>\n",
       "      <td>0.008994</td>\n",
       "      <td>0.007963</td>\n",
       "      <td>0.900876</td>\n",
       "      <td>0.073377</td>\n",
       "      <td>0.007011</td>\n",
       "      <td>0.001780</td>\n",
       "    </tr>\n",
       "    <tr>\n",
       "      <th>1</th>\n",
       "      <td>./test\\file_143</td>\n",
       "      <td>0.000091</td>\n",
       "      <td>0.000251</td>\n",
       "      <td>0.000414</td>\n",
       "      <td>0.000322</td>\n",
       "      <td>0.011593</td>\n",
       "      <td>0.987330</td>\n",
       "    </tr>\n",
       "    <tr>\n",
       "      <th>2</th>\n",
       "      <td>./test\\file_144</td>\n",
       "      <td>0.000143</td>\n",
       "      <td>0.000027</td>\n",
       "      <td>0.014531</td>\n",
       "      <td>0.985128</td>\n",
       "      <td>0.000144</td>\n",
       "      <td>0.000027</td>\n",
       "    </tr>\n",
       "    <tr>\n",
       "      <th>3</th>\n",
       "      <td>./test\\file_145</td>\n",
       "      <td>0.000740</td>\n",
       "      <td>0.000571</td>\n",
       "      <td>0.759506</td>\n",
       "      <td>0.002867</td>\n",
       "      <td>0.053227</td>\n",
       "      <td>0.183089</td>\n",
       "    </tr>\n",
       "    <tr>\n",
       "      <th>4</th>\n",
       "      <td>./test\\file_146</td>\n",
       "      <td>0.999211</td>\n",
       "      <td>0.000249</td>\n",
       "      <td>0.000119</td>\n",
       "      <td>0.000091</td>\n",
       "      <td>0.000192</td>\n",
       "      <td>0.000137</td>\n",
       "    </tr>\n",
       "  </tbody>\n",
       "</table>\n",
       "</div>"
      ],
      "text/plain": [
       "         file_path   Label_0   Label_1   Label_2   Label_3   Label_4   Label_5\n",
       "0  ./test\\file_142  0.008994  0.007963  0.900876  0.073377  0.007011  0.001780\n",
       "1  ./test\\file_143  0.000091  0.000251  0.000414  0.000322  0.011593  0.987330\n",
       "2  ./test\\file_144  0.000143  0.000027  0.014531  0.985128  0.000144  0.000027\n",
       "3  ./test\\file_145  0.000740  0.000571  0.759506  0.002867  0.053227  0.183089\n",
       "4  ./test\\file_146  0.999211  0.000249  0.000119  0.000091  0.000192  0.000137"
      ]
     },
     "metadata": {},
     "output_type": "display_data"
    }
   ],
   "source": [
    "sample_submission.iloc[:,1:] = predictions\n",
    "display(sample_submission.head())\n",
    "sample_submission.to_csv('./vit32_kfold1_no_aug_1004.csv', index=False)"
   ]
  },
  {
   "cell_type": "code",
   "execution_count": null,
   "metadata": {},
   "outputs": [],
   "source": []
  }
 ],
 "metadata": {
  "kernelspec": {
   "display_name": "Python 3",
   "language": "python",
   "name": "python3"
  },
  "language_info": {
   "codemirror_mode": {
    "name": "ipython",
    "version": 3
   },
   "file_extension": ".py",
   "mimetype": "text/x-python",
   "name": "python",
   "nbconvert_exporter": "python",
   "pygments_lexer": "ipython3",
   "version": "3.6.9"
  }
 },
 "nbformat": 4,
 "nbformat_minor": 4
}
