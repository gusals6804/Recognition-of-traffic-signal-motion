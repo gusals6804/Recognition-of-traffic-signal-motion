{
 "cells": [
  {
   "cell_type": "code",
   "execution_count": 1,
   "metadata": {},
   "outputs": [],
   "source": [
    "import pandas as pd\n",
    "import numpy as np\n",
    "import os\n",
    "import shutil\n",
    "from tqdm import tqdm\n",
    "from glob import glob\n",
    "import librosa\n",
    "import warnings\n",
    "warnings.filterwarnings(\"ignore\")\n",
    "\n",
    "import tensorflow as tf\n",
    "from tensorflow import keras\n",
    "from tensorflow.keras.models import Model\n",
    "from tensorflow.keras.layers import (Input, Convolution2D, BatchNormalization, Flatten,\n",
    "                                     Dropout, Dense, AveragePooling2D, Add)\n",
    "from tensorflow.keras.callbacks import EarlyStopping,ModelCheckpoint\n",
    "\n",
    "from sklearn.model_selection import StratifiedKFold\n",
    "from sklearn.metrics import accuracy_score\n",
    "\n",
    "import seaborn as sns\n",
    "import warnings\n",
    "from matplotlib import pyplot as plt"
   ]
  },
  {
   "cell_type": "code",
   "execution_count": 2,
   "metadata": {},
   "outputs": [],
   "source": [
    "# ! apt-get install libsndfile1 --y"
   ]
  },
  {
   "cell_type": "code",
   "execution_count": 3,
   "metadata": {},
   "outputs": [],
   "source": [
    "# ! rm -r ./open"
   ]
  },
  {
   "cell_type": "code",
   "execution_count": 4,
   "metadata": {},
   "outputs": [],
   "source": [
    "# import time\n",
    "# start = time.time()  # 시작 시간 저장\n",
    "\n",
    "# ! unzip ./open.zip -d ./open\n",
    "\n",
    "# print(\"time :\", time.time() - start)  # 현재시각 - 시작시간 = 실행 시간"
   ]
  },
  {
   "cell_type": "code",
   "execution_count": 5,
   "metadata": {},
   "outputs": [],
   "source": [
    "train_data_paths = glob(\"./open/train_dataset/*\")\n",
    "test_data_paths = glob(\"./open/test_data/*\")\n",
    "train_label = pd.read_csv(\"./open/train_label.csv\")"
   ]
  },
  {
   "cell_type": "code",
   "execution_count": 6,
   "metadata": {},
   "outputs": [
    {
     "data": {
      "text/plain": [
       "['./open/train_dataset/EB_0385-3028-04-01-PJW-M-05-A.wav',\n",
       " './open/train_dataset/EA_1520-1019-04-01-YJK-M-06-A.wav',\n",
       " './open/train_dataset/ED_1034-100-04-01-PEK-F-05-A.wav',\n",
       " './open/train_dataset/EB_0300-3014-04-01-LEH-F-06-A.wav',\n",
       " './open/train_dataset/EA_0507-1009-04-01-EJW-M-06-A.wav',\n",
       " './open/train_dataset/EB_0238-3025-04-01-KYJ-F-06-A.wav',\n",
       " './open/train_dataset/EA_0636-1517-04-01-CYJ-F-07-B.wav',\n",
       " './open/train_dataset/EB_0377-3031-04-01-KEJ-F-06-A.wav',\n",
       " './open/train_dataset/EA_0511-1011-04-01-KMS-F-05-A.wav',\n",
       " './open/train_dataset/EB_0260-3035-04-01-YSJ-M-06-A.wav']"
      ]
     },
     "execution_count": 6,
     "metadata": {},
     "output_type": "execute_result"
    }
   ],
   "source": [
    "train_data_paths[:10]"
   ]
  },
  {
   "cell_type": "code",
   "execution_count": 7,
   "metadata": {},
   "outputs": [
    {
     "data": {
      "text/plain": [
       "['./open/test_data/938.wav',\n",
       " './open/test_data/1924.wav',\n",
       " './open/test_data/1703.wav',\n",
       " './open/test_data/1155.wav',\n",
       " './open/test_data/1757.wav',\n",
       " './open/test_data/218.wav',\n",
       " './open/test_data/916.wav',\n",
       " './open/test_data/1525.wav',\n",
       " './open/test_data/1758.wav',\n",
       " './open/test_data/671.wav']"
      ]
     },
     "execution_count": 7,
     "metadata": {},
     "output_type": "execute_result"
    }
   ],
   "source": [
    "test_data_paths[:10]"
   ]
  },
  {
   "cell_type": "code",
   "execution_count": 8,
   "metadata": {},
   "outputs": [
    {
     "data": {
      "text/html": [
       "<div>\n",
       "<style scoped>\n",
       "    .dataframe tbody tr th:only-of-type {\n",
       "        vertical-align: middle;\n",
       "    }\n",
       "\n",
       "    .dataframe tbody tr th {\n",
       "        vertical-align: top;\n",
       "    }\n",
       "\n",
       "    .dataframe thead th {\n",
       "        text-align: right;\n",
       "    }\n",
       "</style>\n",
       "<table border=\"1\" class=\"dataframe\">\n",
       "  <thead>\n",
       "    <tr style=\"text-align: right;\">\n",
       "      <th></th>\n",
       "      <th>file_name</th>\n",
       "      <th>age_</th>\n",
       "    </tr>\n",
       "  </thead>\n",
       "  <tbody>\n",
       "    <tr>\n",
       "      <th>0</th>\n",
       "      <td>EA_0370-1000-04-01-LOH-F-08-A</td>\n",
       "      <td>6</td>\n",
       "    </tr>\n",
       "    <tr>\n",
       "      <th>1</th>\n",
       "      <td>EA_0370-501-04-01-LOH-F-08-A</td>\n",
       "      <td>6</td>\n",
       "    </tr>\n",
       "    <tr>\n",
       "      <th>2</th>\n",
       "      <td>EA_0370-502-04-01-LOH-F-08-A</td>\n",
       "      <td>6</td>\n",
       "    </tr>\n",
       "    <tr>\n",
       "      <th>3</th>\n",
       "      <td>EA_0370-503-04-01-LOH-F-08-A</td>\n",
       "      <td>6</td>\n",
       "    </tr>\n",
       "    <tr>\n",
       "      <th>4</th>\n",
       "      <td>EA_0370-504-04-01-LOH-F-08-A</td>\n",
       "      <td>6</td>\n",
       "    </tr>\n",
       "  </tbody>\n",
       "</table>\n",
       "</div>"
      ],
      "text/plain": [
       "                       file_name  age_\n",
       "0  EA_0370-1000-04-01-LOH-F-08-A     6\n",
       "1   EA_0370-501-04-01-LOH-F-08-A     6\n",
       "2   EA_0370-502-04-01-LOH-F-08-A     6\n",
       "3   EA_0370-503-04-01-LOH-F-08-A     6\n",
       "4   EA_0370-504-04-01-LOH-F-08-A     6"
      ]
     },
     "execution_count": 8,
     "metadata": {},
     "output_type": "execute_result"
    }
   ],
   "source": [
    "train_label.head()"
   ]
  },
  {
   "cell_type": "code",
   "execution_count": 9,
   "metadata": {},
   "outputs": [
    {
     "data": {
      "text/plain": [
       "3    6368\n",
       "4    5855\n",
       "5    4534\n",
       "6    4436\n",
       "2    4026\n",
       "7      31\n",
       "1      31\n",
       "Name: age_, dtype: int64"
      ]
     },
     "execution_count": 9,
     "metadata": {},
     "output_type": "execute_result"
    }
   ],
   "source": [
    "train_label['age_'].value_counts()"
   ]
  },
  {
   "cell_type": "code",
   "execution_count": 10,
   "metadata": {},
   "outputs": [],
   "source": [
    "def load_data(paths):\n",
    "\n",
    "    result = []\n",
    "    for path in tqdm(paths):\n",
    "        data, sr = librosa.load(path, sr = 16000)\n",
    "        result.append(data)\n",
    "    result = np.array(result) \n",
    "\n",
    "    return result"
   ]
  },
  {
   "cell_type": "code",
   "execution_count": 11,
   "metadata": {},
   "outputs": [],
   "source": [
    "# train_data_ = load_data(train_data_paths)\n",
    "# np.save(\"./train_data_\", train_data_)\n",
    "\n",
    "# test_data_ = load_data(test_data_paths)\n",
    "# np.save(\"./test_data_\", test_data_)"
   ]
  },
  {
   "cell_type": "code",
   "execution_count": 12,
   "metadata": {},
   "outputs": [],
   "source": [
    "train_data_ = np.load(\"./train_data_.npy\", allow_pickle = True)\n",
    "test_data_ = np.load(\"./test_data_.npy\", allow_pickle = True)"
   ]
  },
  {
   "cell_type": "code",
   "execution_count": 13,
   "metadata": {},
   "outputs": [],
   "source": [
    "def get_max(data):\n",
    "    \n",
    "    max_ = 0\n",
    "    for i in data:\n",
    "        if len(i) > max_:\n",
    "            max_ = len(i)\n",
    "            \n",
    "    return max_\n",
    "\n",
    "def get_mini(data):\n",
    "\n",
    "    mini = 9999999\n",
    "    for i in data:\n",
    "        if len(i) < mini:\n",
    "            mini = len(i)\n",
    "\n",
    "    return mini\n",
    "\n",
    "def set_max_length(data, d_max):\n",
    "    result = []\n",
    "    for i in data:\n",
    "        tmp = np.zeros(d_max)\n",
    "        if d_max < len(i):\n",
    "            tmp = i[:d_max]\n",
    "        if d_max >= len(i):\n",
    "            tmp[:len(i)] = i\n",
    "        result.append(tmp)\n",
    "    result = np.array(result)\n",
    "    return result\n",
    "\n",
    "def set_length(data, d_mini):\n",
    "\n",
    "    result = []\n",
    "    for i in data:\n",
    "        result.append(i[:d_mini])\n",
    "    result = np.array(result)\n",
    "\n",
    "    return result\n",
    "\n",
    "def get_feature(data, sr = 16000,  n_fft = 256, win_length = 200, hop_length = 160, n_mels = 128):\n",
    "    mel = []\n",
    "    for i in tqdm(data):\n",
    "        mel_ = librosa.feature.melspectrogram(i, sr = sr, n_fft = n_fft, win_length = win_length, hop_length = hop_length, n_mels = n_mels)\n",
    "        mel.append(mel_)\n",
    "    mel = np.array(mel)\n",
    "    mel = librosa.power_to_db(mel, ref = np.max)\n",
    "\n",
    "    mel_mean = mel.mean()\n",
    "    mel_std = mel.std()\n",
    "    mel = (mel - mel_mean) / mel_std\n",
    "\n",
    "    return mel\n",
    "\n",
    "def gen_4_mels(data):\n",
    "    alpha = get_feature(data, n_fft=256, win_length=150, hop_length=160, n_mels=64) # 10 epochs, 1.09398\n",
    "    data = np.stack([alpha], axis=-1)\n",
    "    return data\n",
    "\n",
    "# def get_feature_mm(data, sr = 16000, n_fft = 2048, win_length = 512, hop_length = 160, n_mels = 128):\n",
    "#     mel = []\n",
    "#     for i in tqdm(data):\n",
    "#         mel_ = librosa.feature.melspectrogram(i, sr = sr, n_fft = n_fft, win_length = win_length, hop_length = hop_length, n_mels = n_mels)\n",
    "#         mel.append(mel_)\n",
    "#     mel = np.array(mel)\n",
    "#     mel = librosa.power_to_db(mel, ref = np.max)\n",
    "\n",
    "#     mel_min = mel.min()\n",
    "#     mel_max = mel.max()\n",
    "#     mel = (mel - mel_min) / (mel_max-mel_min)\n",
    "\n",
    "#     return mel"
   ]
  },
  {
   "cell_type": "code",
   "execution_count": 14,
   "metadata": {},
   "outputs": [],
   "source": [
    "train_x = np.array(train_data_)\n",
    "test_x = np.array(test_data_)"
   ]
  },
  {
   "cell_type": "code",
   "execution_count": 15,
   "metadata": {},
   "outputs": [
    {
     "data": {
      "text/plain": [
       "((25281,), (1990,))"
      ]
     },
     "execution_count": 15,
     "metadata": {},
     "output_type": "execute_result"
    }
   ],
   "source": [
    "train_x.shape, test_x.shape"
   ]
  },
  {
   "cell_type": "code",
   "execution_count": 16,
   "metadata": {},
   "outputs": [],
   "source": [
    "# 음성의 길이 중 가장 작은 길이를 구합니다.\n",
    "train_mini = get_mini(train_x)\n",
    "test_mini = get_mini(test_x)"
   ]
  },
  {
   "cell_type": "code",
   "execution_count": 17,
   "metadata": {},
   "outputs": [
    {
     "name": "stdout",
     "output_type": "stream",
     "text": [
      "total training set: (25281,)\n",
      "train_min: 1920\n"
     ]
    },
    {
     "data": {
      "image/png": "[encoded data removed]",
      "text/plain": [
       "<Figure size 432x288 with 1 Axes>"
      ]
     },
     "metadata": {
      "needs_background": "light"
     },
     "output_type": "display_data"
    }
   ],
   "source": [
    "# 데이터 길이 분포 확인\n",
    "print('total training set:', train_x.shape)\n",
    "print('train_min:', train_mini)\n",
    "data_len_list = []\n",
    "for i in train_x:\n",
    "    data_len_list.append(len(i))\n",
    "\n",
    "sns.rugplot(data_len_list)\n",
    "plt.title(\"Voice time length\")\n",
    "plt.show()"
   ]
  },
  {
   "cell_type": "code",
   "execution_count": 18,
   "metadata": {},
   "outputs": [],
   "source": [
    "process_train = []\n",
    "process_train_y = []\n",
    "for i in range(len(train_x)):\n",
    "    if len(train_x[i]) > 16000 and len(train_x[i]) < 200000:\n",
    "        process_train.append(train_x[i])\n",
    "        process_train_y.append(train_label[\"age_\"][i])\n",
    "        \n",
    "train_x = np.array(process_train)\n",
    "train_y = np.array(process_train_y)"
   ]
  },
  {
   "cell_type": "code",
   "execution_count": 19,
   "metadata": {},
   "outputs": [
    {
     "data": {
      "text/plain": [
       "((25273,), (1990,), (25273,))"
      ]
     },
     "execution_count": 19,
     "metadata": {},
     "output_type": "execute_result"
    }
   ],
   "source": [
    "train_x.shape, test_x.shape, train_y.shape"
   ]
  },
  {
   "cell_type": "code",
   "execution_count": 20,
   "metadata": {},
   "outputs": [],
   "source": [
    "# 음성의 길이 중 가장 작은 길이를 구합니다.\n",
    "train_mini = get_mini(train_x)\n",
    "test_mini = get_mini(test_x)"
   ]
  },
  {
   "cell_type": "code",
   "execution_count": 21,
   "metadata": {},
   "outputs": [
    {
     "name": "stdout",
     "output_type": "stream",
     "text": [
      "total training set: (25273,)\n",
      "train_min: 17280\n"
     ]
    },
    {
     "data": {
      "image/png": "[encoded data removed]",
      "text/plain": [
       "<Figure size 432x288 with 1 Axes>"
      ]
     },
     "metadata": {
      "needs_background": "light"
     },
     "output_type": "display_data"
    }
   ],
   "source": [
    "# 데이터 길이 분포 확인\n",
    "print('total training set:', train_x.shape)\n",
    "print('train_min:', train_mini)\n",
    "data_len_list = []\n",
    "for i in train_x:\n",
    "    data_len_list.append(len(i))\n",
    "\n",
    "sns.rugplot(data_len_list)\n",
    "plt.title(\"Voice time length\")\n",
    "plt.show()"
   ]
  },
  {
   "cell_type": "code",
   "execution_count": 22,
   "metadata": {},
   "outputs": [],
   "source": [
    "mini = np.min([train_mini, test_mini])\n",
    "\n",
    "train_x = set_length(train_x, mini)\n",
    "test_x = set_length(test_x, mini)"
   ]
  },
  {
   "cell_type": "code",
   "execution_count": 23,
   "metadata": {},
   "outputs": [
    {
     "data": {
      "text/plain": [
       "array([[ 0.0000000e+00,  0.0000000e+00,  0.0000000e+00, ...,\n",
       "        -2.3750310e-04, -2.7187628e-04, -4.2706315e-04],\n",
       "       [ 0.0000000e+00,  0.0000000e+00,  0.0000000e+00, ...,\n",
       "        -1.3086757e-04, -1.4231540e-04, -1.2343311e-04],\n",
       "       [ 0.0000000e+00,  0.0000000e+00,  0.0000000e+00, ...,\n",
       "        -4.9192440e-03,  8.3049182e-03,  5.2764989e-03],\n",
       "       ...,\n",
       "       [ 0.0000000e+00,  0.0000000e+00,  0.0000000e+00, ...,\n",
       "        -6.0129777e-04,  5.0597754e-04,  1.7142133e-03],\n",
       "       [ 0.0000000e+00,  0.0000000e+00,  0.0000000e+00, ...,\n",
       "         0.0000000e+00,  0.0000000e+00,  0.0000000e+00],\n",
       "       [ 0.0000000e+00,  0.0000000e+00,  0.0000000e+00, ...,\n",
       "         3.0792236e-01,  3.8867188e-01,  3.9355469e-01]], dtype=float32)"
      ]
     },
     "execution_count": 23,
     "metadata": {},
     "output_type": "execute_result"
    }
   ],
   "source": [
    "train_x"
   ]
  },
  {
   "cell_type": "code",
   "execution_count": 24,
   "metadata": {},
   "outputs": [],
   "source": [
    "# train_m = get_feature_mm(data = train_x)\n",
    "# test_m = get_feature_mm(data = test_x)\n",
    "\n",
    "# train_m = train_m.reshape(-1, train_m.shape[1], train_m.shape[2], 1)\n",
    "# test_m = test_m.reshape(-1, test_m.shape[1], test_m.shape[2], 1)"
   ]
  },
  {
   "cell_type": "code",
   "execution_count": 25,
   "metadata": {},
   "outputs": [
    {
     "name": "stderr",
     "output_type": "stream",
     "text": [
      "100%|██████████| 25273/25273 [01:29<00:00, 282.01it/s]\n",
      "100%|██████████| 1990/1990 [00:04<00:00, 444.25it/s]\n"
     ]
    }
   ],
   "source": [
    "# librosa를 이용해 feature를 추출합니다.\n",
    "train_s = gen_4_mels(data=train_x)\n",
    "test_s = gen_4_mels(data=test_x)\n",
    "\n",
    "train_s = train_s.reshape(-1, train_s.shape[1], train_s.shape[2], 1)\n",
    "test_s = test_s.reshape(-1, test_s.shape[1], test_s.shape[2], 1)"
   ]
  },
  {
   "cell_type": "code",
   "execution_count": 26,
   "metadata": {},
   "outputs": [],
   "source": [
    "# np.save('./train_m.npy',arr=train_m)\n",
    "# np.save('./test_m.npy',arr=test_m)\n",
    "\n",
    "np.save('./train_s.npy',arr=train_s)\n",
    "np.save('./test_s.npy',arr=test_s)"
   ]
  },
  {
   "cell_type": "code",
   "execution_count": 27,
   "metadata": {},
   "outputs": [
    {
     "data": {
      "text/plain": [
       "((25273,), (25273, 64, 97, 1), (1990, 64, 97, 1))"
      ]
     },
     "execution_count": 27,
     "metadata": {},
     "output_type": "execute_result"
    }
   ],
   "source": [
    "train_y.shape, train_s.shape, test_s.shape"
   ]
  },
  {
   "cell_type": "code",
   "execution_count": 28,
   "metadata": {},
   "outputs": [],
   "source": [
    "# from tensorflow.keras.utils import to_categorical\n",
    "# train_y = to_categorical(train_y)\n",
    "# # y_val = to_categorical(y_val)"
   ]
  },
  {
   "cell_type": "code",
   "execution_count": 29,
   "metadata": {},
   "outputs": [],
   "source": [
    "# del train_m\n",
    "# del test_m\n",
    "del train_s\n",
    "del test_s"
   ]
  },
  {
   "cell_type": "code",
   "execution_count": 30,
   "metadata": {},
   "outputs": [
    {
     "name": "stdout",
     "output_type": "stream",
     "text": [
      "INFO:tensorflow:Using MirroredStrategy with devices ('/job:localhost/replica:0/task:0/device:GPU:0', '/job:localhost/replica:0/task:0/device:GPU:1')\n",
      "Number of devices: 2\n"
     ]
    }
   ],
   "source": [
    "# Create a MirroredStrategy.\n",
    "strategy = tf.distribute.MirroredStrategy(cross_device_ops=tf.distribute.ReductionToOneDevice())\n",
    "print(\"Number of devices: {}\".format(strategy.num_replicas_in_sync))"
   ]
  },
  {
   "cell_type": "code",
   "execution_count": 31,
   "metadata": {},
   "outputs": [],
   "source": [
    "def block(input_, units = 32, dropout_rate = 0.5):\n",
    "    \n",
    "    x = Convolution2D(units, 3, padding =\"same\", activation = \"relu\")(input_)\n",
    "    x = BatchNormalization()(x)\n",
    "    x_res = x\n",
    "    x = Convolution2D(units, 3, padding =\"same\", activation = \"relu\")(x)\n",
    "    x = BatchNormalization()(x)\n",
    "    x = Convolution2D(units, 3, padding =\"same\", activation = \"relu\")(x)\n",
    "    x = BatchNormalization()(x)\n",
    "    x = Add()([x, x_res])\n",
    "    x = AveragePooling2D()(x)\n",
    "    x = Dropout(rate=dropout_rate)(x)\n",
    "    \n",
    "    return x\n",
    "\n",
    "def second_block(input_, units = 64, dropout_rate = 0.5):\n",
    "    \n",
    "    x = Convolution2D(units, 1, padding =\"same\", activation = \"relu\")(input_)\n",
    "    x = Convolution2D(units, 3, padding =\"same\", activation = \"relu\")(x)\n",
    "    x = Convolution2D(units * 4, 1, padding =\"same\", activation = \"relu\")(x)\n",
    "    x = BatchNormalization()(x)\n",
    "    x_res = x\n",
    "    x = Convolution2D(units, 1, padding =\"same\", activation = \"relu\")(x)\n",
    "    x = Convolution2D(units, 3, padding =\"same\", activation = \"relu\")(x)\n",
    "    x = Convolution2D(units * 4, 1, padding =\"same\", activation = \"relu\")(x)\n",
    "    x = BatchNormalization()(x)\n",
    "    x = Convolution2D(units, 1, padding = \"same\", activation = \"relu\")(x)\n",
    "    x = Convolution2D(units, 3, padding =\"same\", activation = \"relu\")(x)\n",
    "    x = Convolution2D(units * 4, 1, padding = \"same\", activation = \"relu\")(x)\n",
    "    x = BatchNormalization()(x)\n",
    "    x = Add()([x, x_res])\n",
    "    x = AveragePooling2D()(x)\n",
    "    x = Dropout(rate=dropout_rate)(x)\n",
    "    \n",
    "    return x\n",
    "\n",
    "def build_fn():\n",
    "    dropout_rate = 0.3\n",
    "    \n",
    "    in_ = Input(shape = (train_x.shape[1:]))\n",
    "    \n",
    "    block_01 = block(in_, units = 32, dropout_rate = dropout_rate)\n",
    "    block_02 = block(block_01, units = 64, dropout_rate = dropout_rate)\n",
    "    block_03 = block(block_02, units = 128, dropout_rate = dropout_rate)\n",
    "\n",
    "    block_04 = second_block(block_03, units = 64, dropout_rate = dropout_rate)\n",
    "    block_05 = second_block(block_04, units = 128, dropout_rate = dropout_rate)\n",
    "\n",
    "    x = Flatten()(block_05)\n",
    "\n",
    "    x = Dense(units = 128, activation = \"relu\")(x)\n",
    "    x = BatchNormalization()(x)\n",
    "    x_res = x\n",
    "    x = Dropout(rate = dropout_rate)(x)\n",
    "\n",
    "    x = Dense(units = 128, activation = \"relu\")(x)\n",
    "    x = BatchNormalization()(x)\n",
    "    x = Add()([x_res, x])\n",
    "    x = Dropout(rate = dropout_rate)(x)\n",
    "\n",
    "    model_out = Dense(units = 8, activation = 'softmax')(x)\n",
    "    model = Model(in_, model_out)\n",
    "    \n",
    "    return model"
   ]
  },
  {
   "cell_type": "code",
   "execution_count": 32,
   "metadata": {},
   "outputs": [],
   "source": [
    "train_x= np.load('./train_s.npy')"
   ]
  },
  {
   "cell_type": "code",
   "execution_count": 33,
   "metadata": {
    "scrolled": true
   },
   "outputs": [
    {
     "name": "stdout",
     "output_type": "stream",
     "text": [
      "------------------------------------------------------------------------\n",
      "Training for fold 1 ...\n",
      "INFO:tensorflow:Reduce to /job:localhost/replica:0/task:0/device:CPU:0 then broadcast to ('/job:localhost/replica:0/task:0/device:CPU:0',).\n",
      "INFO:tensorflow:Reduce to /job:localhost/replica:0/task:0/device:CPU:0 then broadcast to ('/job:localhost/replica:0/task:0/device:CPU:0',).\n",
      "INFO:tensorflow:Reduce to /job:localhost/replica:0/task:0/device:CPU:0 then broadcast to ('/job:localhost/replica:0/task:0/device:CPU:0',).\n",
      "INFO:tensorflow:Reduce to /job:localhost/replica:0/task:0/device:CPU:0 then broadcast to ('/job:localhost/replica:0/task:0/device:CPU:0',).\n",
      "INFO:tensorflow:Reduce to /job:localhost/replica:0/task:0/device:CPU:0 then broadcast to ('/job:localhost/replica:0/task:0/device:CPU:0',).\n",
      "INFO:tensorflow:Reduce to /job:localhost/replica:0/task:0/device:CPU:0 then broadcast to ('/job:localhost/replica:0/task:0/device:CPU:0',).\n",
      "INFO:tensorflow:Reduce to /job:localhost/replica:0/task:0/device:CPU:0 then broadcast to ('/job:localhost/replica:0/task:0/device:CPU:0',).\n",
      "INFO:tensorflow:Reduce to /job:localhost/replica:0/task:0/device:CPU:0 then broadcast to ('/job:localhost/replica:0/task:0/device:CPU:0',).\n",
      "INFO:tensorflow:Reduce to /job:localhost/replica:0/task:0/device:CPU:0 then broadcast to ('/job:localhost/replica:0/task:0/device:CPU:0',).\n",
      "INFO:tensorflow:Reduce to /job:localhost/replica:0/task:0/device:CPU:0 then broadcast to ('/job:localhost/replica:0/task:0/device:CPU:0',).\n",
      "Epoch 1/30\n",
      "INFO:tensorflow:Reduce to /job:localhost/replica:0/task:0/device:GPU:0 then broadcast to ('/job:localhost/replica:0/task:0/device:GPU:0', '/job:localhost/replica:0/task:0/device:GPU:1').\n",
      "INFO:tensorflow:Reduce to /job:localhost/replica:0/task:0/device:GPU:0 then broadcast to ('/job:localhost/replica:0/task:0/device:GPU:0', '/job:localhost/replica:0/task:0/device:GPU:1').\n",
      "INFO:tensorflow:Reduce to /job:localhost/replica:0/task:0/device:GPU:0 then broadcast to ('/job:localhost/replica:0/task:0/device:GPU:0', '/job:localhost/replica:0/task:0/device:GPU:1').\n",
      "INFO:tensorflow:Reduce to /job:localhost/replica:0/task:0/device:GPU:0 then broadcast to ('/job:localhost/replica:0/task:0/device:GPU:0', '/job:localhost/replica:0/task:0/device:GPU:1').\n",
      "INFO:tensorflow:Reduce to /job:localhost/replica:0/task:0/device:GPU:0 then broadcast to ('/job:localhost/replica:0/task:0/device:GPU:0', '/job:localhost/replica:0/task:0/device:GPU:1').\n",
      "INFO:tensorflow:Reduce to /job:localhost/replica:0/task:0/device:GPU:0 then broadcast to ('/job:localhost/replica:0/task:0/device:GPU:0', '/job:localhost/replica:0/task:0/device:GPU:1').\n",
      "INFO:tensorflow:Reduce to /job:localhost/replica:0/task:0/device:GPU:0 then broadcast to ('/job:localhost/replica:0/task:0/device:GPU:0', '/job:localhost/replica:0/task:0/device:GPU:1').\n",
      "INFO:tensorflow:Reduce to /job:localhost/replica:0/task:0/device:GPU:0 then broadcast to ('/job:localhost/replica:0/task:0/device:GPU:0', '/job:localhost/replica:0/task:0/device:GPU:1').\n",
      "INFO:tensorflow:Reduce to /job:localhost/replica:0/task:0/device:GPU:0 then broadcast to ('/job:localhost/replica:0/task:0/device:GPU:0', '/job:localhost/replica:0/task:0/device:GPU:1').\n",
      "INFO:tensorflow:Reduce to /job:localhost/replica:0/task:0/device:GPU:0 then broadcast to ('/job:localhost/replica:0/task:0/device:GPU:0', '/job:localhost/replica:0/task:0/device:GPU:1').\n",
      "711/711 [==============================] - 43s 39ms/step - loss: 2.2768 - accuracy: 0.1967 - val_loss: 1.6739 - val_accuracy: 0.2445\n",
      "Epoch 2/30\n",
      "711/711 [==============================] - 26s 36ms/step - loss: 1.7658 - accuracy: 0.2216 - val_loss: 1.7904 - val_accuracy: 0.2492\n",
      "Epoch 3/30\n",
      "711/711 [==============================] - 26s 36ms/step - loss: 1.6778 - accuracy: 0.2226 - val_loss: 1.6152 - val_accuracy: 0.2409\n",
      "Epoch 4/30\n",
      "711/711 [==============================] - 25s 36ms/step - loss: 1.6410 - accuracy: 0.2311 - val_loss: 1.6143 - val_accuracy: 0.2377\n",
      "Epoch 5/30\n",
      "711/711 [==============================] - 25s 35ms/step - loss: 1.6299 - accuracy: 0.2364 - val_loss: 1.6125 - val_accuracy: 0.2488\n",
      "Epoch 6/30\n",
      "711/711 [==============================] - 25s 35ms/step - loss: 1.6216 - accuracy: 0.2400 - val_loss: 1.6129 - val_accuracy: 0.2429\n",
      "Epoch 7/30\n",
      "711/711 [==============================] - 25s 35ms/step - loss: 1.6192 - accuracy: 0.2400 - val_loss: 1.6101 - val_accuracy: 0.2393\n",
      "Epoch 8/30\n",
      "711/711 [==============================] - 25s 35ms/step - loss: 1.6170 - accuracy: 0.2440 - val_loss: 1.6120 - val_accuracy: 0.2520\n",
      "Epoch 9/30\n",
      "711/711 [==============================] - 25s 35ms/step - loss: 1.6172 - accuracy: 0.2447 - val_loss: 1.6126 - val_accuracy: 0.2425\n",
      "Epoch 10/30\n",
      "711/711 [==============================] - 25s 35ms/step - loss: 1.6147 - accuracy: 0.2485 - val_loss: 1.6148 - val_accuracy: 0.2393\n",
      "*******************************************************************\n",
      "------------------------------------------------------------------------\n",
      "Training for fold 2 ...\n",
      "Epoch 1/30\n",
      "711/711 [==============================] - 40s 38ms/step - loss: 2.2576 - accuracy: 0.1962 - val_loss: 1.6710 - val_accuracy: 0.2389\n",
      "Epoch 2/30\n",
      "711/711 [==============================] - 25s 35ms/step - loss: 1.7796 - accuracy: 0.2177 - val_loss: 1.6249 - val_accuracy: 0.2488\n",
      "Epoch 3/30\n",
      "711/711 [==============================] - 24s 34ms/step - loss: 1.6807 - accuracy: 0.2215 - val_loss: 1.6175 - val_accuracy: 0.2460\n",
      "Epoch 4/30\n",
      "711/711 [==============================] - 24s 34ms/step - loss: 1.6394 - accuracy: 0.2312 - val_loss: 1.6215 - val_accuracy: 0.2223\n",
      "Epoch 5/30\n",
      "711/711 [==============================] - 25s 35ms/step - loss: 1.6283 - accuracy: 0.2350 - val_loss: 1.6102 - val_accuracy: 0.2520\n",
      "Epoch 6/30\n",
      "711/711 [==============================] - 25s 35ms/step - loss: 1.6201 - accuracy: 0.2423 - val_loss: 1.6155 - val_accuracy: 0.2453\n",
      "Epoch 7/30\n",
      "711/711 [==============================] - 25s 35ms/step - loss: 1.6191 - accuracy: 0.2419 - val_loss: 1.6192 - val_accuracy: 0.2445\n",
      "Epoch 8/30\n",
      "711/711 [==============================] - 25s 35ms/step - loss: 1.6170 - accuracy: 0.2417 - val_loss: 1.6131 - val_accuracy: 0.2540\n",
      "*******************************************************************\n",
      "------------------------------------------------------------------------\n",
      "Training for fold 3 ...\n",
      "Epoch 1/30\n",
      "711/711 [==============================] - 40s 38ms/step - loss: 2.2952 - accuracy: 0.1953 - val_loss: 1.6700 - val_accuracy: 0.2354\n",
      "Epoch 2/30\n",
      "711/711 [==============================] - 25s 35ms/step - loss: 1.7800 - accuracy: 0.2201 - val_loss: 1.7633 - val_accuracy: 0.2476\n",
      "Epoch 3/30\n",
      "711/711 [==============================] - 25s 35ms/step - loss: 1.6828 - accuracy: 0.2258 - val_loss: 1.6185 - val_accuracy: 0.2326\n",
      "Epoch 4/30\n",
      "711/711 [==============================] - 25s 35ms/step - loss: 1.6482 - accuracy: 0.2280 - val_loss: 1.6136 - val_accuracy: 0.2476\n",
      "Epoch 5/30\n",
      "711/711 [==============================] - 25s 35ms/step - loss: 1.6288 - accuracy: 0.2352 - val_loss: 1.6120 - val_accuracy: 0.2547\n",
      "Epoch 6/30\n",
      "711/711 [==============================] - 25s 35ms/step - loss: 1.6217 - accuracy: 0.2372 - val_loss: 1.6153 - val_accuracy: 0.2468\n",
      "Epoch 7/30\n",
      "711/711 [==============================] - 25s 35ms/step - loss: 1.6184 - accuracy: 0.2419 - val_loss: 1.6250 - val_accuracy: 0.2429\n",
      "Epoch 8/30\n",
      "711/711 [==============================] - 25s 35ms/step - loss: 1.6173 - accuracy: 0.2440 - val_loss: 1.6158 - val_accuracy: 0.2437\n",
      "*******************************************************************\n",
      "------------------------------------------------------------------------\n",
      "Training for fold 4 ...\n",
      "Epoch 1/30\n",
      "711/711 [==============================] - 40s 38ms/step - loss: 2.1938 - accuracy: 0.1959 - val_loss: 1.6513 - val_accuracy: 0.2533\n",
      "Epoch 2/30\n",
      "711/711 [==============================] - 25s 35ms/step - loss: 1.7448 - accuracy: 0.2202 - val_loss: 1.6168 - val_accuracy: 0.2454\n",
      "Epoch 3/30\n",
      "711/711 [==============================] - 25s 35ms/step - loss: 1.6680 - accuracy: 0.2268 - val_loss: 1.6236 - val_accuracy: 0.2319\n",
      "Epoch 4/30\n",
      "711/711 [==============================] - 25s 36ms/step - loss: 1.6398 - accuracy: 0.2311 - val_loss: 1.6160 - val_accuracy: 0.2477\n",
      "Epoch 5/30\n"
     ]
    },
    {
     "name": "stdout",
     "output_type": "stream",
     "text": [
      "711/711 [==============================] - 25s 36ms/step - loss: 1.6266 - accuracy: 0.2373 - val_loss: 1.6193 - val_accuracy: 0.2513\n",
      "Epoch 6/30\n",
      "711/711 [==============================] - 25s 35ms/step - loss: 1.6181 - accuracy: 0.2418 - val_loss: 1.6155 - val_accuracy: 0.2335\n",
      "Epoch 7/30\n",
      "711/711 [==============================] - 25s 35ms/step - loss: 1.6174 - accuracy: 0.2436 - val_loss: 1.6117 - val_accuracy: 0.2418\n",
      "Epoch 8/30\n",
      "711/711 [==============================] - 25s 35ms/step - loss: 1.6162 - accuracy: 0.2433 - val_loss: 1.6120 - val_accuracy: 0.2434\n",
      "Epoch 9/30\n",
      "711/711 [==============================] - 25s 35ms/step - loss: 1.6165 - accuracy: 0.2429 - val_loss: 1.6408 - val_accuracy: 0.2493\n",
      "Epoch 10/30\n",
      "711/711 [==============================] - 25s 35ms/step - loss: 1.6169 - accuracy: 0.2421 - val_loss: 1.6099 - val_accuracy: 0.2505\n",
      "Epoch 11/30\n",
      "711/711 [==============================] - 25s 35ms/step - loss: 1.6141 - accuracy: 0.2438 - val_loss: 1.6167 - val_accuracy: 0.2430\n",
      "Epoch 12/30\n",
      "711/711 [==============================] - 25s 36ms/step - loss: 1.6140 - accuracy: 0.2466 - val_loss: 1.6107 - val_accuracy: 0.2517\n",
      "Epoch 13/30\n",
      "711/711 [==============================] - 25s 35ms/step - loss: 1.6133 - accuracy: 0.2455 - val_loss: 1.6143 - val_accuracy: 0.2501\n",
      "*******************************************************************\n",
      "------------------------------------------------------------------------\n",
      "Training for fold 5 ...\n",
      "Epoch 1/30\n",
      "711/711 [==============================] - 41s 39ms/step - loss: 2.2125 - accuracy: 0.1981 - val_loss: 1.6854 - val_accuracy: 0.2129\n",
      "Epoch 2/30\n",
      "711/711 [==============================] - 25s 35ms/step - loss: 1.7502 - accuracy: 0.2134 - val_loss: 1.6204 - val_accuracy: 0.2390\n",
      "Epoch 3/30\n",
      "711/711 [==============================] - 25s 35ms/step - loss: 1.6639 - accuracy: 0.2231 - val_loss: 1.6142 - val_accuracy: 0.2509\n",
      "Epoch 4/30\n",
      "711/711 [==============================] - 25s 35ms/step - loss: 1.6345 - accuracy: 0.2347 - val_loss: 1.6091 - val_accuracy: 0.2505\n",
      "Epoch 5/30\n",
      "711/711 [==============================] - 25s 35ms/step - loss: 1.6233 - accuracy: 0.2393 - val_loss: 1.6102 - val_accuracy: 0.2517\n",
      "Epoch 6/30\n",
      "711/711 [==============================] - 25s 35ms/step - loss: 1.6200 - accuracy: 0.2426 - val_loss: 1.6188 - val_accuracy: 0.2465\n",
      "Epoch 7/30\n",
      "711/711 [==============================] - 26s 36ms/step - loss: 1.6185 - accuracy: 0.2400 - val_loss: 1.6143 - val_accuracy: 0.2505\n",
      "*******************************************************************\n",
      "------------------------------------------------------------------------\n",
      "Training for fold 6 ...\n",
      "Epoch 1/30\n",
      "711/711 [==============================] - 41s 39ms/step - loss: 2.1669 - accuracy: 0.1968 - val_loss: 1.6422 - val_accuracy: 0.2244\n",
      "Epoch 2/30\n",
      "711/711 [==============================] - 25s 35ms/step - loss: 1.7269 - accuracy: 0.2172 - val_loss: 1.6257 - val_accuracy: 0.2382\n",
      "Epoch 3/30\n",
      "711/711 [==============================] - 25s 35ms/step - loss: 1.6614 - accuracy: 0.2216 - val_loss: 1.6161 - val_accuracy: 0.2355\n",
      "Epoch 4/30\n",
      "711/711 [==============================] - 25s 34ms/step - loss: 1.6330 - accuracy: 0.2329 - val_loss: 1.6181 - val_accuracy: 0.2216\n",
      "Epoch 5/30\n",
      "711/711 [==============================] - 25s 34ms/step - loss: 1.6237 - accuracy: 0.2363 - val_loss: 1.6150 - val_accuracy: 0.2339\n",
      "Epoch 6/30\n",
      "711/711 [==============================] - 25s 35ms/step - loss: 1.6202 - accuracy: 0.2409 - val_loss: 1.6132 - val_accuracy: 0.2283\n",
      "Epoch 7/30\n",
      "711/711 [==============================] - 24s 34ms/step - loss: 1.6181 - accuracy: 0.2448 - val_loss: 1.6240 - val_accuracy: 0.2331\n",
      "Epoch 8/30\n",
      "711/711 [==============================] - 24s 34ms/step - loss: 1.6161 - accuracy: 0.2468 - val_loss: 1.6124 - val_accuracy: 0.2485\n",
      "Epoch 9/30\n",
      "711/711 [==============================] - 25s 35ms/step - loss: 1.6149 - accuracy: 0.2437 - val_loss: 1.6166 - val_accuracy: 0.2335\n",
      "Epoch 10/30\n",
      "711/711 [==============================] - 25s 35ms/step - loss: 1.6158 - accuracy: 0.2446 - val_loss: 1.6231 - val_accuracy: 0.2457\n",
      "Epoch 11/30\n",
      "711/711 [==============================] - 25s 35ms/step - loss: 1.6149 - accuracy: 0.2459 - val_loss: 1.6123 - val_accuracy: 0.2327\n",
      "Epoch 12/30\n",
      "711/711 [==============================] - 25s 35ms/step - loss: 1.6132 - accuracy: 0.2499 - val_loss: 1.6118 - val_accuracy: 0.2537\n",
      "Epoch 13/30\n",
      "711/711 [==============================] - 25s 35ms/step - loss: 1.6123 - accuracy: 0.2492 - val_loss: 1.6116 - val_accuracy: 0.2517\n",
      "Epoch 14/30\n",
      "711/711 [==============================] - 25s 35ms/step - loss: 1.6131 - accuracy: 0.2437 - val_loss: 1.6089 - val_accuracy: 0.2521\n",
      "Epoch 15/30\n",
      "711/711 [==============================] - 25s 35ms/step - loss: 1.6131 - accuracy: 0.2436 - val_loss: 1.6110 - val_accuracy: 0.2568\n",
      "Epoch 16/30\n",
      "711/711 [==============================] - 25s 35ms/step - loss: 1.6136 - accuracy: 0.2445 - val_loss: 1.6128 - val_accuracy: 0.2521\n",
      "Epoch 17/30\n",
      "711/711 [==============================] - 24s 34ms/step - loss: 1.6128 - accuracy: 0.2455 - val_loss: 1.6084 - val_accuracy: 0.2521\n",
      "Epoch 18/30\n",
      "711/711 [==============================] - 25s 35ms/step - loss: 1.6119 - accuracy: 0.2505 - val_loss: 1.6111 - val_accuracy: 0.2509\n",
      "Epoch 19/30\n",
      "711/711 [==============================] - 25s 35ms/step - loss: 1.6123 - accuracy: 0.2458 - val_loss: 1.6103 - val_accuracy: 0.2450\n",
      "Epoch 20/30\n",
      "711/711 [==============================] - 25s 35ms/step - loss: 1.6119 - accuracy: 0.2494 - val_loss: 1.6118 - val_accuracy: 0.2521\n",
      "*******************************************************************\n",
      "------------------------------------------------------------------------\n",
      "Training for fold 7 ...\n",
      "Epoch 1/30\n",
      "711/711 [==============================] - 41s 39ms/step - loss: 2.2548 - accuracy: 0.1928 - val_loss: 1.6588 - val_accuracy: 0.1963\n",
      "Epoch 2/30\n",
      "711/711 [==============================] - 25s 35ms/step - loss: 1.7563 - accuracy: 0.2162 - val_loss: 1.6409 - val_accuracy: 0.2394\n",
      "Epoch 3/30\n",
      "711/711 [==============================] - 25s 35ms/step - loss: 1.6694 - accuracy: 0.2182 - val_loss: 1.6147 - val_accuracy: 0.2505\n",
      "Epoch 4/30\n",
      "711/711 [==============================] - 25s 35ms/step - loss: 1.6369 - accuracy: 0.2329 - val_loss: 1.6136 - val_accuracy: 0.2485\n",
      "Epoch 5/30\n",
      "711/711 [==============================] - 25s 35ms/step - loss: 1.6262 - accuracy: 0.2361 - val_loss: 1.6275 - val_accuracy: 0.2264\n",
      "Epoch 6/30\n",
      "711/711 [==============================] - 25s 35ms/step - loss: 1.6201 - accuracy: 0.2443 - val_loss: 1.6189 - val_accuracy: 0.2446\n",
      "Epoch 7/30\n",
      "711/711 [==============================] - 25s 35ms/step - loss: 1.6178 - accuracy: 0.2429 - val_loss: 1.6168 - val_accuracy: 0.2525\n",
      "*******************************************************************\n",
      "------------------------------------------------------------------------\n",
      "Training for fold 8 ...\n",
      "Epoch 1/30\n",
      "711/711 [==============================] - 39s 36ms/step - loss: 2.2220 - accuracy: 0.1931 - val_loss: 1.6758 - val_accuracy: 0.2521\n",
      "Epoch 2/30\n",
      "711/711 [==============================] - 25s 36ms/step - loss: 1.7394 - accuracy: 0.2173 - val_loss: 1.6207 - val_accuracy: 0.2343\n",
      "Epoch 3/30\n",
      "711/711 [==============================] - 25s 35ms/step - loss: 1.6655 - accuracy: 0.2239 - val_loss: 1.6166 - val_accuracy: 0.2501\n",
      "Epoch 4/30\n",
      "711/711 [==============================] - 25s 35ms/step - loss: 1.6380 - accuracy: 0.2360 - val_loss: 1.6222 - val_accuracy: 0.2513\n",
      "Epoch 5/30\n",
      "711/711 [==============================] - 25s 35ms/step - loss: 1.6257 - accuracy: 0.2378 - val_loss: 1.6186 - val_accuracy: 0.2418\n",
      "Epoch 6/30\n",
      "711/711 [==============================] - 25s 35ms/step - loss: 1.6212 - accuracy: 0.2424 - val_loss: 1.6126 - val_accuracy: 0.2430\n",
      "Epoch 7/30\n",
      "711/711 [==============================] - 25s 35ms/step - loss: 1.6184 - accuracy: 0.2418 - val_loss: 1.6276 - val_accuracy: 0.2275\n",
      "Epoch 8/30\n",
      "711/711 [==============================] - 25s 35ms/step - loss: 1.6173 - accuracy: 0.2443 - val_loss: 1.6127 - val_accuracy: 0.2517\n",
      "Epoch 9/30\n",
      "711/711 [==============================] - 25s 35ms/step - loss: 1.6165 - accuracy: 0.2420 - val_loss: 1.6143 - val_accuracy: 0.2473\n",
      "*******************************************************************\n",
      "------------------------------------------------------------------------\n",
      "Training for fold 9 ...\n"
     ]
    },
    {
     "name": "stdout",
     "output_type": "stream",
     "text": [
      "Epoch 1/30\n",
      "711/711 [==============================] - 38s 39ms/step - loss: 2.2827 - accuracy: 0.1909 - val_loss: 1.6642 - val_accuracy: 0.2430\n",
      "Epoch 2/30\n",
      "711/711 [==============================] - 25s 35ms/step - loss: 1.7851 - accuracy: 0.2144 - val_loss: 1.6285 - val_accuracy: 0.2335\n",
      "Epoch 3/30\n",
      "711/711 [==============================] - 25s 35ms/step - loss: 1.6803 - accuracy: 0.2229 - val_loss: 1.6180 - val_accuracy: 0.2426\n",
      "Epoch 4/30\n",
      "711/711 [==============================] - 25s 35ms/step - loss: 1.6427 - accuracy: 0.2320 - val_loss: 1.6117 - val_accuracy: 0.2394\n",
      "Epoch 5/30\n",
      "711/711 [==============================] - 25s 35ms/step - loss: 1.6286 - accuracy: 0.2385 - val_loss: 1.7720 - val_accuracy: 0.2327\n",
      "Epoch 6/30\n",
      "711/711 [==============================] - 25s 35ms/step - loss: 1.6201 - accuracy: 0.2422 - val_loss: 1.6111 - val_accuracy: 0.2525\n",
      "Epoch 7/30\n",
      "711/711 [==============================] - 25s 35ms/step - loss: 1.6188 - accuracy: 0.2471 - val_loss: 1.6139 - val_accuracy: 0.2438\n",
      "Epoch 8/30\n",
      "711/711 [==============================] - 25s 35ms/step - loss: 1.6159 - accuracy: 0.2504 - val_loss: 1.6119 - val_accuracy: 0.2327\n",
      "Epoch 9/30\n",
      "711/711 [==============================] - 26s 36ms/step - loss: 1.6161 - accuracy: 0.2433 - val_loss: 1.6117 - val_accuracy: 0.2517\n",
      "*******************************************************************\n",
      "------------------------------------------------------------------------\n",
      "Training for fold 10 ...\n",
      "Epoch 1/30\n",
      "711/711 [==============================] - 41s 39ms/step - loss: 2.2410 - accuracy: 0.1929 - val_loss: 1.6440 - val_accuracy: 0.2252\n",
      "Epoch 2/30\n",
      "711/711 [==============================] - 25s 36ms/step - loss: 1.7518 - accuracy: 0.2208 - val_loss: 1.6249 - val_accuracy: 0.2268\n",
      "Epoch 3/30\n",
      "711/711 [==============================] - 25s 35ms/step - loss: 1.6637 - accuracy: 0.2287 - val_loss: 1.6237 - val_accuracy: 0.2541\n",
      "Epoch 4/30\n",
      "711/711 [==============================] - 25s 35ms/step - loss: 1.6400 - accuracy: 0.2286 - val_loss: 1.6191 - val_accuracy: 0.2541\n",
      "Epoch 5/30\n",
      "711/711 [==============================] - 25s 35ms/step - loss: 1.6268 - accuracy: 0.2321 - val_loss: 1.6623 - val_accuracy: 0.2501\n",
      "Epoch 6/30\n",
      "711/711 [==============================] - 25s 35ms/step - loss: 1.6202 - accuracy: 0.2440 - val_loss: 1.6565 - val_accuracy: 0.2434\n",
      "Epoch 7/30\n",
      "711/711 [==============================] - 25s 35ms/step - loss: 1.6199 - accuracy: 0.2451 - val_loss: 1.6117 - val_accuracy: 0.2497\n",
      "Epoch 8/30\n",
      "711/711 [==============================] - 25s 35ms/step - loss: 1.6163 - accuracy: 0.2409 - val_loss: 1.6102 - val_accuracy: 0.2493\n",
      "Epoch 9/30\n",
      "711/711 [==============================] - 25s 35ms/step - loss: 1.6143 - accuracy: 0.2461 - val_loss: 1.6156 - val_accuracy: 0.2505\n",
      "Epoch 10/30\n",
      "711/711 [==============================] - 25s 35ms/step - loss: 1.6141 - accuracy: 0.2462 - val_loss: 1.6142 - val_accuracy: 0.2366\n",
      "Epoch 11/30\n",
      "711/711 [==============================] - 25s 35ms/step - loss: 1.6140 - accuracy: 0.2466 - val_loss: 1.6108 - val_accuracy: 0.2359\n",
      "*******************************************************************\n"
     ]
    }
   ],
   "source": [
    "split = StratifiedKFold(n_splits = 10, shuffle = True, random_state = 42)\n",
    "\n",
    "# pred = []\n",
    "# pred_ = []\n",
    "\n",
    "fold_no = 1\n",
    "for e , (train_idx, val_idx) in enumerate(split.split(train_x, train_y)):\n",
    "    \n",
    "    print('------------------------------------------------------------------------')\n",
    "    print(f'Training for fold {fold_no} ...')\n",
    "    \n",
    "    \n",
    "    checkpoint = ModelCheckpoint('./s_model'+f'/check{e}.h5',save_best_only=True)\n",
    "    early_stopping_callback = EarlyStopping(monitor='val_loss', patience=3)\n",
    "    \n",
    "    x_train, y_train = train_x[train_idx], train_y[train_idx]\n",
    "    x_val, y_val = train_x[val_idx], train_y[val_idx]\n",
    "\n",
    "    with strategy.scope():\n",
    "        model = build_fn()\n",
    "        model.compile(optimizer = keras.optimizers.Adam(0.0005),\n",
    "                     loss = keras.losses.SparseCategoricalCrossentropy(),\n",
    "                     metrics=['accuracy'])\n",
    "\n",
    "    history = model.fit(x = x_train, y = y_train, validation_data = (x_val, y_val), \n",
    "                        callbacks=[early_stopping_callback, checkpoint], epochs = 30)\n",
    "    \n",
    "\n",
    "    \n",
    "    print(\"*******************************************************************\")\n",
    "    \n",
    "    fold_no += 1"
   ]
  },
  {
   "cell_type": "code",
   "execution_count": 34,
   "metadata": {},
   "outputs": [],
   "source": [
    "# train_x= np.load('./train_m.npy')"
   ]
  },
  {
   "cell_type": "code",
   "execution_count": 35,
   "metadata": {},
   "outputs": [],
   "source": [
    "# split = StratifiedKFold(n_splits = 10, shuffle = True, random_state = 10)\n",
    "\n",
    "# # pred = []\n",
    "# # pred_ = []\n",
    "\n",
    "# fold_no = 1\n",
    "# for e , (train_idx, val_idx) in enumerate(split.split(train_x, train_y)):\n",
    "    \n",
    "#     print('------------------------------------------------------------------------')\n",
    "#     print(f'Training for fold {fold_no} ...')\n",
    "    \n",
    "    \n",
    "#     checkpoint = ModelCheckpoint('./m_model'+f'/check{e}.h5',save_best_only=True)\n",
    "#     early_stopping_callback = EarlyStopping(monitor='val_loss', patience=5)\n",
    "    \n",
    "#     x_train, y_train = train_x[train_idx], train_y[train_idx]\n",
    "#     x_val, y_val = train_x[val_idx], train_y[val_idx]\n",
    "\n",
    "#     with strategy.scope():\n",
    "#         model = build_fn()\n",
    "#         model.compile(optimizer = keras.optimizers.Adam(0.0001),\n",
    "#                      loss = keras.losses.SparseCategoricalCrossentropy(),\n",
    "#                      metrics=['accuracy'])\n",
    "\n",
    "#     history = model.fit(x = x_train, y = y_train, validation_data = (x_val, y_val), \n",
    "#                         callbacks=[early_stopping_callback, checkpoint], epochs = 30)\n",
    "    \n",
    "\n",
    "    \n",
    "#     print(\"*******************************************************************\")\n",
    "    \n",
    "#     fold_no += 1"
   ]
  },
  {
   "cell_type": "code",
   "execution_count": 36,
   "metadata": {},
   "outputs": [],
   "source": [
    "test_x= np.load('./test_s.npy')"
   ]
  },
  {
   "cell_type": "code",
   "execution_count": 37,
   "metadata": {},
   "outputs": [
    {
     "name": "stdout",
     "output_type": "stream",
     "text": [
      "*******************************************************************\n",
      "*******************************************************************\n",
      "0\n",
      "*******************************************************************\n",
      "*******************************************************************\n",
      "1\n",
      "*******************************************************************\n",
      "*******************************************************************\n",
      "2\n",
      "*******************************************************************\n",
      "*******************************************************************\n",
      "3\n",
      "*******************************************************************\n",
      "*******************************************************************\n",
      "4\n",
      "*******************************************************************\n",
      "*******************************************************************\n",
      "5\n",
      "*******************************************************************\n",
      "*******************************************************************\n",
      "6\n",
      "*******************************************************************\n",
      "*******************************************************************\n",
      "7\n",
      "*******************************************************************\n",
      "*******************************************************************\n",
      "8\n",
      "*******************************************************************\n",
      "*******************************************************************\n",
      "9\n"
     ]
    }
   ],
   "source": [
    "pred1 = []\n",
    "pred1_ = []\n",
    "\n",
    "for e in range(10):\n",
    "    model = build_fn()\n",
    "    model.load_weights('./s_model'+f'/check{e}.h5')\n",
    "    print(\"*******************************************************************\")\n",
    "    pred1.append(model.predict(test_x))\n",
    "    pred1_.append(np.argmax(model.predict(test_x), axis = 1))\n",
    "    print(\"*******************************************************************\")\n",
    "    print(e)"
   ]
  },
  {
   "cell_type": "code",
   "execution_count": 38,
   "metadata": {},
   "outputs": [],
   "source": [
    "# test_x= np.load('./test_m.npy')"
   ]
  },
  {
   "cell_type": "code",
   "execution_count": 39,
   "metadata": {},
   "outputs": [],
   "source": [
    "# pred2 = []\n",
    "# pred2_ = []\n",
    "\n",
    "# for e in range(10):\n",
    "#     model = build_fn()\n",
    "#     model.load_weights('./m_model'+f'/check{e}.h5')\n",
    "#     print(\"*******************************************************************\")\n",
    "#     pred2.append(model.predict(test_x))\n",
    "#     pred2_.append(np.argmax(model.predict(test_x), axis = 1))\n",
    "#     print(\"*******************************************************************\")\n",
    "#     print(e)"
   ]
  },
  {
   "cell_type": "code",
   "execution_count": 40,
   "metadata": {},
   "outputs": [],
   "source": [
    "pred_1 = np.argmax(np.sum(pred1, axis =0), axis = 1)\n",
    "# pred_2 = np.argmax(np.sum(pred2, axis =0), axis = 1)"
   ]
  },
  {
   "cell_type": "code",
   "execution_count": 41,
   "metadata": {},
   "outputs": [],
   "source": [
    "sample_submission = pd.read_csv(\"open/sample_submission.csv\")\n",
    "sample_submission[\"age_\"] = pred_1"
   ]
  },
  {
   "cell_type": "code",
   "execution_count": 45,
   "metadata": {},
   "outputs": [],
   "source": [
    "sample_submission.to_csv(\"./baseline_10_9.csv\", index = False)"
   ]
  },
  {
   "cell_type": "code",
   "execution_count": null,
   "metadata": {},
   "outputs": [],
   "source": []
  }
 ],
 "metadata": {
  "kernelspec": {
   "display_name": "Python 3",
   "language": "python",
   "name": "python3"
  },
  "language_info": {
   "codemirror_mode": {
    "name": "ipython",
    "version": 3
   },
   "file_extension": ".py",
   "mimetype": "text/x-python",
   "name": "python",
   "nbconvert_exporter": "python",
   "pygments_lexer": "ipython3",
   "version": "3.6.9"
  }
 },
 "nbformat": 4,
 "nbformat_minor": 2
}
